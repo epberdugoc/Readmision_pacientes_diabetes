{
 "cells": [
  {
   "cell_type": "markdown",
   "metadata": {},
   "source": [
    "Data set: Diabetes 130-US hospitals for years 1999-2008"
   ]
  },
  {
   "cell_type": "code",
   "execution_count": 120,
   "metadata": {
    "scrolled": false
   },
   "outputs": [],
   "source": [
    "## R version:\n",
    "# version\n",
    "# install.packages(c(\"Hmisc\",\"GGally\",\"corrplot\",\"psych\",\"proto\",\"gsubfn\",\"sqldf\",\"survey\",\"e1071\",\"CORElearn\"))\n",
    "# install.packages(\"qcc\")"
   ]
  },
  {
   "cell_type": "code",
   "execution_count": null,
   "metadata": {},
   "outputs": [],
   "source": [
    "# Librerias requeridas:\n",
    "\n",
    "library(dplyr)\n",
    "library(proto)\n",
    "library(RSQLite)\n",
    "library(gsubfn)\n",
    "library(sqldf)\n",
    "library(lattice)\n",
    "library(GGally)\n",
    "library(ggplot2)\n",
    "library(corrplot)\n",
    "library(psych)\n",
    "library(randomForest)\n",
    "library(e1071)\n",
    "library(nnet)\n",
    "library(CORElearn)\n",
    "#library(lasso2)\n",
    "library(survival)\n",
    "library(grid)\n",
    "library(Matrix)\n",
    "library(survey)\n",
    "library(caret)\n",
    "library(rpart)\n",
    "library(Hmisc)"
   ]
  },
  {
   "cell_type": "markdown",
   "metadata": {},
   "source": [
    "Cargando los datos originales alojados en el repositorio **UCI**:"
   ]
  },
  {
   "cell_type": "code",
   "execution_count": 19,
   "metadata": {},
   "outputs": [],
   "source": [
    "# filename=\"G:\\\\Unidades compartidas\\\\Books_and_Code_for_Colab_(R and Python)\\\\ifood_technical_test\\\\Analysis-HbA1c-Measurement-and-Hospital-Readmission-Rates_R\\\\diabetic_data.csv\"\n",
    "filename = 'G:/Shared drives/Books_and_Code_for_Colab_(R and Python)/ifood_technical_test/Analysis-HbA1c-Measurement-and-Hospital-Readmission-Rates_R/diabetic_data.csv'\n",
    "data = read.table(filename, sep = \",\", header = T, na.strings = \"?\")"
   ]
  },
  {
   "cell_type": "code",
   "execution_count": 10,
   "metadata": {},
   "outputs": [
    {
     "name": "stdout",
     "output_type": "stream",
     "text": [
      "[1] 101766\n"
     ]
    },
    {
     "data": {
      "text/html": [
       "<table>\n",
       "<thead><tr><th scope=col>encounter_id</th><th scope=col>patient_nbr</th><th scope=col>race</th><th scope=col>gender</th><th scope=col>age</th><th scope=col>weight</th><th scope=col>admission_type_id</th><th scope=col>discharge_disposition_id</th><th scope=col>admission_source_id</th><th scope=col>time_in_hospital</th><th scope=col>...</th><th scope=col>citoglipton</th><th scope=col>insulin</th><th scope=col>glyburide.metformin</th><th scope=col>glipizide.metformin</th><th scope=col>glimepiride.pioglitazone</th><th scope=col>metformin.rosiglitazone</th><th scope=col>metformin.pioglitazone</th><th scope=col>change</th><th scope=col>diabetesMed</th><th scope=col>readmitted</th></tr></thead>\n",
       "<tbody>\n",
       "\t<tr><td>2278392        </td><td> 8222157       </td><td>Caucasian      </td><td>Female         </td><td>[0-10)         </td><td>NA             </td><td>6              </td><td>25             </td><td>1              </td><td>1              </td><td>...            </td><td>No             </td><td>No             </td><td>No             </td><td>No             </td><td>No             </td><td>No             </td><td>No             </td><td>No             </td><td>No             </td><td>NO             </td></tr>\n",
       "\t<tr><td> 149190                                                </td><td>55629189                                               </td><td><span style=white-space:pre-wrap>Caucasian      </span></td><td>Female                                                 </td><td>[10-20)                                                </td><td>NA                                                     </td><td>1                                                      </td><td> 1                                                     </td><td>7                                                      </td><td>3                                                      </td><td>...                                                    </td><td>No                                                     </td><td><span style=white-space:pre-wrap>Up    </span>         </td><td>No                                                     </td><td>No                                                     </td><td>No                                                     </td><td>No                                                     </td><td>No                                                     </td><td>Ch                                                     </td><td>Yes                                                    </td><td>&gt;30                                                 </td></tr>\n",
       "\t<tr><td>  64410        </td><td>86047875       </td><td>AfricanAmerican</td><td>Female         </td><td>[20-30)        </td><td>NA             </td><td>1              </td><td> 1             </td><td>7              </td><td>2              </td><td>...            </td><td>No             </td><td>No             </td><td>No             </td><td>No             </td><td>No             </td><td>No             </td><td>No             </td><td>No             </td><td>Yes            </td><td>NO             </td></tr>\n",
       "\t<tr><td> 500364        </td><td>82442376       </td><td>Caucasian      </td><td>Male           </td><td>[30-40)        </td><td>NA             </td><td>1              </td><td> 1             </td><td>7              </td><td>2              </td><td>...            </td><td>No             </td><td>Up             </td><td>No             </td><td>No             </td><td>No             </td><td>No             </td><td>No             </td><td>Ch             </td><td>Yes            </td><td>NO             </td></tr>\n",
       "\t<tr><td>  16680        </td><td>42519267       </td><td>Caucasian      </td><td>Male           </td><td>[40-50)        </td><td>NA             </td><td>1              </td><td> 1             </td><td>7              </td><td>1              </td><td>...            </td><td>No             </td><td>Steady         </td><td>No             </td><td>No             </td><td>No             </td><td>No             </td><td>No             </td><td>Ch             </td><td>Yes            </td><td>NO             </td></tr>\n",
       "\t<tr><td><span style=white-space:pre-wrap>  35754</span>        </td><td>82637451                                               </td><td><span style=white-space:pre-wrap>Caucasian      </span></td><td><span style=white-space:pre-wrap>Male  </span>         </td><td>[50-60)                                                </td><td>NA                                                     </td><td>2                                                      </td><td> 1                                                     </td><td>2                                                      </td><td>3                                                      </td><td>...                                                    </td><td>No                                                     </td><td>Steady                                                 </td><td>No                                                     </td><td>No                                                     </td><td>No                                                     </td><td>No                                                     </td><td>No                                                     </td><td>No                                                     </td><td>Yes                                                    </td><td>&gt;30                                                 </td></tr>\n",
       "</tbody>\n",
       "</table>\n"
      ],
      "text/latex": [
       "\\begin{tabular}{r|llllllllllllllllllllllllllllllllllllllllllllllllll}\n",
       " encounter\\_id & patient\\_nbr & race & gender & age & weight & admission\\_type\\_id & discharge\\_disposition\\_id & admission\\_source\\_id & time\\_in\\_hospital & ... & citoglipton & insulin & glyburide.metformin & glipizide.metformin & glimepiride.pioglitazone & metformin.rosiglitazone & metformin.pioglitazone & change & diabetesMed & readmitted\\\\\n",
       "\\hline\n",
       "\t 2278392         &  8222157        & Caucasian       & Female          & {[}0-10)        & NA              & 6               & 25              & 1               & 1               & ...             & No              & No              & No              & No              & No              & No              & No              & No              & No              & NO             \\\\\n",
       "\t  149190         & 55629189        & Caucasian       & Female          & {[}10-20)       & NA              & 1               &  1              & 7               & 3               & ...             & No              & Up              & No              & No              & No              & No              & No              & Ch              & Yes             & >30            \\\\\n",
       "\t   64410         & 86047875        & AfricanAmerican & Female          & {[}20-30)       & NA              & 1               &  1              & 7               & 2               & ...             & No              & No              & No              & No              & No              & No              & No              & No              & Yes             & NO             \\\\\n",
       "\t  500364         & 82442376        & Caucasian       & Male            & {[}30-40)       & NA              & 1               &  1              & 7               & 2               & ...             & No              & Up              & No              & No              & No              & No              & No              & Ch              & Yes             & NO             \\\\\n",
       "\t   16680         & 42519267        & Caucasian       & Male            & {[}40-50)       & NA              & 1               &  1              & 7               & 1               & ...             & No              & Steady          & No              & No              & No              & No              & No              & Ch              & Yes             & NO             \\\\\n",
       "\t   35754         & 82637451        & Caucasian       & Male            & {[}50-60)       & NA              & 2               &  1              & 2               & 3               & ...             & No              & Steady          & No              & No              & No              & No              & No              & No              & Yes             & >30            \\\\\n",
       "\\end{tabular}\n"
      ],
      "text/markdown": [
       "\n",
       "| encounter_id | patient_nbr | race | gender | age | weight | admission_type_id | discharge_disposition_id | admission_source_id | time_in_hospital | ... | citoglipton | insulin | glyburide.metformin | glipizide.metformin | glimepiride.pioglitazone | metformin.rosiglitazone | metformin.pioglitazone | change | diabetesMed | readmitted |\n",
       "|---|---|---|---|---|---|---|---|---|---|---|---|---|---|---|---|---|---|---|---|---|\n",
       "| 2278392         |  8222157        | Caucasian       | Female          | [0-10)          | NA              | 6               | 25              | 1               | 1               | ...             | No              | No              | No              | No              | No              | No              | No              | No              | No              | NO              |\n",
       "|  149190         | 55629189        | Caucasian       | Female          | [10-20)         | NA              | 1               |  1              | 7               | 3               | ...             | No              | Up              | No              | No              | No              | No              | No              | Ch              | Yes             | >30             |\n",
       "|   64410         | 86047875        | AfricanAmerican | Female          | [20-30)         | NA              | 1               |  1              | 7               | 2               | ...             | No              | No              | No              | No              | No              | No              | No              | No              | Yes             | NO              |\n",
       "|  500364         | 82442376        | Caucasian       | Male            | [30-40)         | NA              | 1               |  1              | 7               | 2               | ...             | No              | Up              | No              | No              | No              | No              | No              | Ch              | Yes             | NO              |\n",
       "|   16680         | 42519267        | Caucasian       | Male            | [40-50)         | NA              | 1               |  1              | 7               | 1               | ...             | No              | Steady          | No              | No              | No              | No              | No              | Ch              | Yes             | NO              |\n",
       "|   35754         | 82637451        | Caucasian       | Male            | [50-60)         | NA              | 2               |  1              | 2               | 3               | ...             | No              | Steady          | No              | No              | No              | No              | No              | No              | Yes             | >30             |\n",
       "\n"
      ],
      "text/plain": [
       "  encounter_id patient_nbr race            gender age     weight\n",
       "1 2278392       8222157    Caucasian       Female [0-10)  NA    \n",
       "2  149190      55629189    Caucasian       Female [10-20) NA    \n",
       "3   64410      86047875    AfricanAmerican Female [20-30) NA    \n",
       "4  500364      82442376    Caucasian       Male   [30-40) NA    \n",
       "5   16680      42519267    Caucasian       Male   [40-50) NA    \n",
       "6   35754      82637451    Caucasian       Male   [50-60) NA    \n",
       "  admission_type_id discharge_disposition_id admission_source_id\n",
       "1 6                 25                       1                  \n",
       "2 1                  1                       7                  \n",
       "3 1                  1                       7                  \n",
       "4 1                  1                       7                  \n",
       "5 1                  1                       7                  \n",
       "6 2                  1                       2                  \n",
       "  time_in_hospital ... citoglipton insulin glyburide.metformin\n",
       "1 1                ... No          No      No                 \n",
       "2 3                ... No          Up      No                 \n",
       "3 2                ... No          No      No                 \n",
       "4 2                ... No          Up      No                 \n",
       "5 1                ... No          Steady  No                 \n",
       "6 3                ... No          Steady  No                 \n",
       "  glipizide.metformin glimepiride.pioglitazone metformin.rosiglitazone\n",
       "1 No                  No                       No                     \n",
       "2 No                  No                       No                     \n",
       "3 No                  No                       No                     \n",
       "4 No                  No                       No                     \n",
       "5 No                  No                       No                     \n",
       "6 No                  No                       No                     \n",
       "  metformin.pioglitazone change diabetesMed readmitted\n",
       "1 No                     No     No          NO        \n",
       "2 No                     Ch     Yes         >30       \n",
       "3 No                     No     Yes         NO        \n",
       "4 No                     Ch     Yes         NO        \n",
       "5 No                     Ch     Yes         NO        \n",
       "6 No                     No     Yes         >30       "
      ]
     },
     "metadata": {},
     "output_type": "display_data"
    }
   ],
   "source": [
    "## Number of rows:\n",
    "print(nrow(data))\n",
    "head(data)"
   ]
  },
  {
   "cell_type": "code",
   "execution_count": 27,
   "metadata": {},
   "outputs": [
    {
     "data": {
      "text/html": [
       "<table>\n",
       "<thead><tr><th></th><th scope=col>patient_nbr</th><th scope=col>encounter_id</th><th scope=col>readmitted</th></tr></thead>\n",
       "<tbody>\n",
       "\t<tr><th scope=row>83818</th><td>100000170</td><td>263108742</td><td>&gt;30   </td></tr>\n",
       "\t<tr><th scope=row>85608</th><td>100000170</td><td>271365276</td><td>NO       </td></tr>\n",
       "</tbody>\n",
       "</table>\n"
      ],
      "text/latex": [
       "\\begin{tabular}{r|lll}\n",
       "  & patient\\_nbr & encounter\\_id & readmitted\\\\\n",
       "\\hline\n",
       "\t83818 & 100000170 & 263108742 & >30      \\\\\n",
       "\t85608 & 100000170 & 271365276 & NO       \\\\\n",
       "\\end{tabular}\n"
      ],
      "text/markdown": [
       "\n",
       "| <!--/--> | patient_nbr | encounter_id | readmitted |\n",
       "|---|---|---|---|\n",
       "| 83818 | 100000170 | 263108742 | >30       |\n",
       "| 85608 | 100000170 | 271365276 | NO        |\n",
       "\n"
      ],
      "text/plain": [
       "      patient_nbr encounter_id readmitted\n",
       "83818 100000170   263108742    >30       \n",
       "85608 100000170   271365276    NO        "
      ]
     },
     "metadata": {},
     "output_type": "display_data"
    },
    {
     "data": {
      "text/html": [
       "<table>\n",
       "<thead><tr><th></th><th scope=col>patient_nbr</th><th scope=col>encounter_id</th><th scope=col>readmitted</th></tr></thead>\n",
       "<tbody>\n",
       "\t<tr><th scope=row>69488</th><td>100021914</td><td>197661240</td><td>&lt;30   </td></tr>\n",
       "\t<tr><th scope=row>69765</th><td>100021914</td><td>199045416</td><td>&lt;30   </td></tr>\n",
       "\t<tr><th scope=row>70105</th><td>100021914</td><td>200455056</td><td>&gt;30   </td></tr>\n",
       "\t<tr><th scope=row>71375</th><td>100021914</td><td>206730024</td><td>NO       </td></tr>\n",
       "</tbody>\n",
       "</table>\n"
      ],
      "text/latex": [
       "\\begin{tabular}{r|lll}\n",
       "  & patient\\_nbr & encounter\\_id & readmitted\\\\\n",
       "\\hline\n",
       "\t69488 & 100021914 & 197661240 & <30      \\\\\n",
       "\t69765 & 100021914 & 199045416 & <30      \\\\\n",
       "\t70105 & 100021914 & 200455056 & >30      \\\\\n",
       "\t71375 & 100021914 & 206730024 & NO       \\\\\n",
       "\\end{tabular}\n"
      ],
      "text/markdown": [
       "\n",
       "| <!--/--> | patient_nbr | encounter_id | readmitted |\n",
       "|---|---|---|---|\n",
       "| 69488 | 100021914 | 197661240 | <30       |\n",
       "| 69765 | 100021914 | 199045416 | <30       |\n",
       "| 70105 | 100021914 | 200455056 | >30       |\n",
       "| 71375 | 100021914 | 206730024 | NO        |\n",
       "\n"
      ],
      "text/plain": [
       "      patient_nbr encounter_id readmitted\n",
       "69488 100021914   197661240    <30       \n",
       "69765 100021914   199045416    <30       \n",
       "70105 100021914   200455056    >30       \n",
       "71375 100021914   206730024    NO        "
      ]
     },
     "metadata": {},
     "output_type": "display_data"
    }
   ],
   "source": [
    "# Examples:\n",
    "data[data$patient_nbr==100000170,c(\"patient_nbr\",\"encounter_id\",\"readmitted\")]\n",
    "\n",
    "data[data$patient_nbr==100021914,c(\"patient_nbr\",\"encounter_id\",\"readmitted\")]\n"
   ]
  },
  {
   "cell_type": "code",
   "execution_count": 29,
   "metadata": {},
   "outputs": [],
   "source": [
    "# Hmisc::describe(data$patient_nbr)"
   ]
  },
  {
   "cell_type": "code",
   "execution_count": 19,
   "metadata": {},
   "outputs": [
    {
     "data": {
      "text/html": [
       "71518"
      ],
      "text/latex": [
       "71518"
      ],
      "text/markdown": [
       "71518"
      ],
      "text/plain": [
       "[1] 71518"
      ]
     },
     "metadata": {},
     "output_type": "display_data"
    },
    {
     "data": {
      "text/html": [
       "101766"
      ],
      "text/latex": [
       "101766"
      ],
      "text/markdown": [
       "101766"
      ],
      "text/plain": [
       "[1] 101766"
      ]
     },
     "metadata": {},
     "output_type": "display_data"
    },
    {
     "data": {
      "text/html": [
       "<ol class=list-inline>\n",
       "\t<li>'encounter_id'</li>\n",
       "\t<li>'patient_nbr'</li>\n",
       "\t<li>'race'</li>\n",
       "\t<li>'gender'</li>\n",
       "\t<li>'age'</li>\n",
       "\t<li>'weight'</li>\n",
       "\t<li>'admission_type_id'</li>\n",
       "\t<li>'discharge_disposition_id'</li>\n",
       "\t<li>'admission_source_id'</li>\n",
       "\t<li>'time_in_hospital'</li>\n",
       "\t<li>'payer_code'</li>\n",
       "\t<li>'medical_specialty'</li>\n",
       "\t<li>'num_lab_procedures'</li>\n",
       "\t<li>'num_procedures'</li>\n",
       "\t<li>'num_medications'</li>\n",
       "\t<li>'number_outpatient'</li>\n",
       "\t<li>'number_emergency'</li>\n",
       "\t<li>'number_inpatient'</li>\n",
       "\t<li>'diag_1'</li>\n",
       "\t<li>'diag_2'</li>\n",
       "\t<li>'diag_3'</li>\n",
       "\t<li>'number_diagnoses'</li>\n",
       "\t<li>'max_glu_serum'</li>\n",
       "\t<li>'A1Cresult'</li>\n",
       "\t<li>'metformin'</li>\n",
       "\t<li>'repaglinide'</li>\n",
       "\t<li>'nateglinide'</li>\n",
       "\t<li>'chlorpropamide'</li>\n",
       "\t<li>'glimepiride'</li>\n",
       "\t<li>'acetohexamide'</li>\n",
       "\t<li>'glipizide'</li>\n",
       "\t<li>'glyburide'</li>\n",
       "\t<li>'tolbutamide'</li>\n",
       "\t<li>'pioglitazone'</li>\n",
       "\t<li>'rosiglitazone'</li>\n",
       "\t<li>'acarbose'</li>\n",
       "\t<li>'miglitol'</li>\n",
       "\t<li>'troglitazone'</li>\n",
       "\t<li>'tolazamide'</li>\n",
       "\t<li>'examide'</li>\n",
       "\t<li>'citoglipton'</li>\n",
       "\t<li>'insulin'</li>\n",
       "\t<li>'glyburide.metformin'</li>\n",
       "\t<li>'glipizide.metformin'</li>\n",
       "\t<li>'glimepiride.pioglitazone'</li>\n",
       "\t<li>'metformin.rosiglitazone'</li>\n",
       "\t<li>'metformin.pioglitazone'</li>\n",
       "\t<li>'change'</li>\n",
       "\t<li>'diabetesMed'</li>\n",
       "\t<li>'readmitted'</li>\n",
       "</ol>\n"
      ],
      "text/latex": [
       "\\begin{enumerate*}\n",
       "\\item 'encounter\\_id'\n",
       "\\item 'patient\\_nbr'\n",
       "\\item 'race'\n",
       "\\item 'gender'\n",
       "\\item 'age'\n",
       "\\item 'weight'\n",
       "\\item 'admission\\_type\\_id'\n",
       "\\item 'discharge\\_disposition\\_id'\n",
       "\\item 'admission\\_source\\_id'\n",
       "\\item 'time\\_in\\_hospital'\n",
       "\\item 'payer\\_code'\n",
       "\\item 'medical\\_specialty'\n",
       "\\item 'num\\_lab\\_procedures'\n",
       "\\item 'num\\_procedures'\n",
       "\\item 'num\\_medications'\n",
       "\\item 'number\\_outpatient'\n",
       "\\item 'number\\_emergency'\n",
       "\\item 'number\\_inpatient'\n",
       "\\item 'diag\\_1'\n",
       "\\item 'diag\\_2'\n",
       "\\item 'diag\\_3'\n",
       "\\item 'number\\_diagnoses'\n",
       "\\item 'max\\_glu\\_serum'\n",
       "\\item 'A1Cresult'\n",
       "\\item 'metformin'\n",
       "\\item 'repaglinide'\n",
       "\\item 'nateglinide'\n",
       "\\item 'chlorpropamide'\n",
       "\\item 'glimepiride'\n",
       "\\item 'acetohexamide'\n",
       "\\item 'glipizide'\n",
       "\\item 'glyburide'\n",
       "\\item 'tolbutamide'\n",
       "\\item 'pioglitazone'\n",
       "\\item 'rosiglitazone'\n",
       "\\item 'acarbose'\n",
       "\\item 'miglitol'\n",
       "\\item 'troglitazone'\n",
       "\\item 'tolazamide'\n",
       "\\item 'examide'\n",
       "\\item 'citoglipton'\n",
       "\\item 'insulin'\n",
       "\\item 'glyburide.metformin'\n",
       "\\item 'glipizide.metformin'\n",
       "\\item 'glimepiride.pioglitazone'\n",
       "\\item 'metformin.rosiglitazone'\n",
       "\\item 'metformin.pioglitazone'\n",
       "\\item 'change'\n",
       "\\item 'diabetesMed'\n",
       "\\item 'readmitted'\n",
       "\\end{enumerate*}\n"
      ],
      "text/markdown": [
       "1. 'encounter_id'\n",
       "2. 'patient_nbr'\n",
       "3. 'race'\n",
       "4. 'gender'\n",
       "5. 'age'\n",
       "6. 'weight'\n",
       "7. 'admission_type_id'\n",
       "8. 'discharge_disposition_id'\n",
       "9. 'admission_source_id'\n",
       "10. 'time_in_hospital'\n",
       "11. 'payer_code'\n",
       "12. 'medical_specialty'\n",
       "13. 'num_lab_procedures'\n",
       "14. 'num_procedures'\n",
       "15. 'num_medications'\n",
       "16. 'number_outpatient'\n",
       "17. 'number_emergency'\n",
       "18. 'number_inpatient'\n",
       "19. 'diag_1'\n",
       "20. 'diag_2'\n",
       "21. 'diag_3'\n",
       "22. 'number_diagnoses'\n",
       "23. 'max_glu_serum'\n",
       "24. 'A1Cresult'\n",
       "25. 'metformin'\n",
       "26. 'repaglinide'\n",
       "27. 'nateglinide'\n",
       "28. 'chlorpropamide'\n",
       "29. 'glimepiride'\n",
       "30. 'acetohexamide'\n",
       "31. 'glipizide'\n",
       "32. 'glyburide'\n",
       "33. 'tolbutamide'\n",
       "34. 'pioglitazone'\n",
       "35. 'rosiglitazone'\n",
       "36. 'acarbose'\n",
       "37. 'miglitol'\n",
       "38. 'troglitazone'\n",
       "39. 'tolazamide'\n",
       "40. 'examide'\n",
       "41. 'citoglipton'\n",
       "42. 'insulin'\n",
       "43. 'glyburide.metformin'\n",
       "44. 'glipizide.metformin'\n",
       "45. 'glimepiride.pioglitazone'\n",
       "46. 'metformin.rosiglitazone'\n",
       "47. 'metformin.pioglitazone'\n",
       "48. 'change'\n",
       "49. 'diabetesMed'\n",
       "50. 'readmitted'\n",
       "\n",
       "\n"
      ],
      "text/plain": [
       " [1] \"encounter_id\"             \"patient_nbr\"             \n",
       " [3] \"race\"                     \"gender\"                  \n",
       " [5] \"age\"                      \"weight\"                  \n",
       " [7] \"admission_type_id\"        \"discharge_disposition_id\"\n",
       " [9] \"admission_source_id\"      \"time_in_hospital\"        \n",
       "[11] \"payer_code\"               \"medical_specialty\"       \n",
       "[13] \"num_lab_procedures\"       \"num_procedures\"          \n",
       "[15] \"num_medications\"          \"number_outpatient\"       \n",
       "[17] \"number_emergency\"         \"number_inpatient\"        \n",
       "[19] \"diag_1\"                   \"diag_2\"                  \n",
       "[21] \"diag_3\"                   \"number_diagnoses\"        \n",
       "[23] \"max_glu_serum\"            \"A1Cresult\"               \n",
       "[25] \"metformin\"                \"repaglinide\"             \n",
       "[27] \"nateglinide\"              \"chlorpropamide\"          \n",
       "[29] \"glimepiride\"              \"acetohexamide\"           \n",
       "[31] \"glipizide\"                \"glyburide\"               \n",
       "[33] \"tolbutamide\"              \"pioglitazone\"            \n",
       "[35] \"rosiglitazone\"            \"acarbose\"                \n",
       "[37] \"miglitol\"                 \"troglitazone\"            \n",
       "[39] \"tolazamide\"               \"examide\"                 \n",
       "[41] \"citoglipton\"              \"insulin\"                 \n",
       "[43] \"glyburide.metformin\"      \"glipizide.metformin\"     \n",
       "[45] \"glimepiride.pioglitazone\" \"metformin.rosiglitazone\" \n",
       "[47] \"metformin.pioglitazone\"   \"change\"                  \n",
       "[49] \"diabetesMed\"              \"readmitted\"              "
      ]
     },
     "metadata": {},
     "output_type": "display_data"
    }
   ],
   "source": [
    "length(unique(data$patient_nbr))\n",
    "length(unique(data$encounter_id))\n",
    "(names(data))"
   ]
  },
  {
   "cell_type": "code",
   "execution_count": 20,
   "metadata": {},
   "outputs": [
    {
     "data": {
      "text/html": [
       "<ol class=list-inline>\n",
       "\t<li>101766</li>\n",
       "\t<li>50</li>\n",
       "</ol>\n"
      ],
      "text/latex": [
       "\\begin{enumerate*}\n",
       "\\item 101766\n",
       "\\item 50\n",
       "\\end{enumerate*}\n"
      ],
      "text/markdown": [
       "1. 101766\n",
       "2. 50\n",
       "\n",
       "\n"
      ],
      "text/plain": [
       "[1] 101766     50"
      ]
     },
     "metadata": {},
     "output_type": "display_data"
    }
   ],
   "source": [
    "## Realizando una copias de los datos originales:\n",
    "original_data=data\n",
    "dim(original_data)"
   ]
  },
  {
   "cell_type": "markdown",
   "metadata": {},
   "source": [
    "### Análisis de valores perdidos."
   ]
  },
  {
   "cell_type": "markdown",
   "metadata": {},
   "source": [
    "Eliminando algunas columnas: De acuerdo con el artículo de **Chopra et al**(2017), tan solo 25 varianles son consideradas de alto impacto sobre la tasa de readmitidos."
   ]
  },
  {
   "cell_type": "code",
   "execution_count": 21,
   "metadata": {},
   "outputs": [
    {
     "data": {
      "text/html": [
       "<ol class=list-inline>\n",
       "\t<li>101766</li>\n",
       "\t<li>25</li>\n",
       "</ol>\n"
      ],
      "text/latex": [
       "\\begin{enumerate*}\n",
       "\\item 101766\n",
       "\\item 25\n",
       "\\end{enumerate*}\n"
      ],
      "text/markdown": [
       "1. 101766\n",
       "2. 25\n",
       "\n",
       "\n"
      ],
      "text/plain": [
       "[1] 101766     25"
      ]
     },
     "metadata": {},
     "output_type": "display_data"
    }
   ],
   "source": [
    "data=select(data, -encounter_id,  -weight,-payer_code, -(25:41),-(43:47))\n",
    "dim(data)"
   ]
  },
  {
   "cell_type": "code",
   "execution_count": 23,
   "metadata": {},
   "outputs": [
    {
     "data": {
      "text/html": [
       "TRUE"
      ],
      "text/latex": [
       "TRUE"
      ],
      "text/markdown": [
       "TRUE"
      ],
      "text/plain": [
       "[1] TRUE"
      ]
     },
     "metadata": {},
     "output_type": "display_data"
    },
    {
     "data": {
      "text/html": [
       "TRUE"
      ],
      "text/latex": [
       "TRUE"
      ],
      "text/markdown": [
       "TRUE"
      ],
      "text/plain": [
       "[1] TRUE"
      ]
     },
     "metadata": {},
     "output_type": "display_data"
    }
   ],
   "source": [
    "any(is.na(data$race))\n",
    "any(is.na(data$medical_specialty))"
   ]
  },
  {
   "cell_type": "code",
   "execution_count": 26,
   "metadata": {},
   "outputs": [
    {
     "data": {
      "text/html": [
       "FALSE"
      ],
      "text/latex": [
       "FALSE"
      ],
      "text/markdown": [
       "FALSE"
      ],
      "text/plain": [
       "[1] FALSE"
      ]
     },
     "metadata": {},
     "output_type": "display_data"
    },
    {
     "data": {
      "text/html": [
       "FALSE"
      ],
      "text/latex": [
       "FALSE"
      ],
      "text/markdown": [
       "FALSE"
      ],
      "text/plain": [
       "[1] FALSE"
      ]
     },
     "metadata": {},
     "output_type": "display_data"
    }
   ],
   "source": [
    "# refactor speciality to include \"Missing\" as a factor level\n",
    "# and replace NA with \"None\"\n",
    "\n",
    "levels <- levels(data$race)\n",
    "levels[length(levels) + 1] <- \"Missing\"\n",
    "\n",
    "data$race <- factor(data$race, levels = levels)\n",
    "data$race[is.na(data$race)] <- \"Missing\"\n",
    "\n",
    "levels <- levels(data$medical_specialty)\n",
    "levels[length(levels) + 1] <- \"Missing\"\n",
    "\n",
    "data$medical_specialty <- factor(data$medical_specialty, levels = levels)\n",
    "data$medical_specialty[is.na(data$medical_specialty)] <- \"Missing\"\n",
    "\n",
    "any(is.na(data$race))\n",
    "\n",
    "any(is.na(data$medical_specialty))"
   ]
  },
  {
   "cell_type": "code",
   "execution_count": 30,
   "metadata": {},
   "outputs": [
    {
     "data": {
      "text/plain": [
       "data$medical_specialty \n",
       "       n  missing distinct \n",
       "  101766        0       73 \n",
       "\n",
       "lowest : AllergyandImmunology     Anesthesiology           Anesthesiology-Pediatric Cardiology               Cardiology-Pediatric    \n",
       "highest: Surgery-Thoracic         Surgery-Vascular         SurgicalSpecialty        Urology                  Missing                 "
      ]
     },
     "metadata": {},
     "output_type": "display_data"
    }
   ],
   "source": [
    "Hmisc::describe(data$medical_specialty)"
   ]
  },
  {
   "cell_type": "markdown",
   "metadata": {},
   "source": [
    "### Pre procesamiento de datos\n",
    "\n",
    "Los datos tal y como están en los archivos originales no pueden ser usados debido a que se deben desacartar algunos pacientes y realizar varios cruces entre variables."
   ]
  },
  {
   "cell_type": "markdown",
   "metadata": {},
   "source": [
    "Preprocesammiento datos con SQL, fusionammiento de clases para la variable A1Cresult y readmitted. Filtrado de pacienets fallecidos o con destino a otros centros hospitalarios."
   ]
  },
  {
   "cell_type": "code",
   "execution_count": 43,
   "metadata": {},
   "outputs": [],
   "source": [
    "data = sqldf(\"select *, count(distinct patient_nbr) as a from data where discharge_disposition_id not in (11, 13, 14, 19, 20, 21) group by patient_nbr\")\n",
    "\n",
    "data = sqldf(\"select case A1Cresult when '>7' then 'Norm' when '>8' then 'High' else A1Cresult end as HbA1c, case readmitted when '<30' then 1 else 0 end as Readmit, * from data\")\n",
    "\n",
    "data = select(data, -readmitted, -patient_nbr, -a, -A1Cresult, -num_lab_procedures)"
   ]
  },
  {
   "cell_type": "code",
   "execution_count": 61,
   "metadata": {},
   "outputs": [
    {
     "data": {
      "text/html": [
       "<ol class=list-inline>\n",
       "\t<li>'HbA1c'</li>\n",
       "\t<li>'Readmit'</li>\n",
       "\t<li>'race'</li>\n",
       "\t<li>'gender'</li>\n",
       "\t<li>'age'</li>\n",
       "\t<li>'admission_type_id'</li>\n",
       "\t<li>'discharge_disposition_id'</li>\n",
       "\t<li>'admission_source_id'</li>\n",
       "\t<li>'time_in_hospital'</li>\n",
       "\t<li>'medical_specialty'</li>\n",
       "\t<li>'num_procedures'</li>\n",
       "\t<li>'num_medications'</li>\n",
       "\t<li>'number_outpatient'</li>\n",
       "\t<li>'number_emergency'</li>\n",
       "\t<li>'number_inpatient'</li>\n",
       "\t<li>'diag_1'</li>\n",
       "\t<li>'diag_2'</li>\n",
       "\t<li>'diag_3'</li>\n",
       "\t<li>'number_diagnoses'</li>\n",
       "\t<li>'max_glu_serum'</li>\n",
       "\t<li>'insulin'</li>\n",
       "\t<li>'change'</li>\n",
       "\t<li>'diabetesMed'</li>\n",
       "</ol>\n"
      ],
      "text/latex": [
       "\\begin{enumerate*}\n",
       "\\item 'HbA1c'\n",
       "\\item 'Readmit'\n",
       "\\item 'race'\n",
       "\\item 'gender'\n",
       "\\item 'age'\n",
       "\\item 'admission\\_type\\_id'\n",
       "\\item 'discharge\\_disposition\\_id'\n",
       "\\item 'admission\\_source\\_id'\n",
       "\\item 'time\\_in\\_hospital'\n",
       "\\item 'medical\\_specialty'\n",
       "\\item 'num\\_procedures'\n",
       "\\item 'num\\_medications'\n",
       "\\item 'number\\_outpatient'\n",
       "\\item 'number\\_emergency'\n",
       "\\item 'number\\_inpatient'\n",
       "\\item 'diag\\_1'\n",
       "\\item 'diag\\_2'\n",
       "\\item 'diag\\_3'\n",
       "\\item 'number\\_diagnoses'\n",
       "\\item 'max\\_glu\\_serum'\n",
       "\\item 'insulin'\n",
       "\\item 'change'\n",
       "\\item 'diabetesMed'\n",
       "\\end{enumerate*}\n"
      ],
      "text/markdown": [
       "1. 'HbA1c'\n",
       "2. 'Readmit'\n",
       "3. 'race'\n",
       "4. 'gender'\n",
       "5. 'age'\n",
       "6. 'admission_type_id'\n",
       "7. 'discharge_disposition_id'\n",
       "8. 'admission_source_id'\n",
       "9. 'time_in_hospital'\n",
       "10. 'medical_specialty'\n",
       "11. 'num_procedures'\n",
       "12. 'num_medications'\n",
       "13. 'number_outpatient'\n",
       "14. 'number_emergency'\n",
       "15. 'number_inpatient'\n",
       "16. 'diag_1'\n",
       "17. 'diag_2'\n",
       "18. 'diag_3'\n",
       "19. 'number_diagnoses'\n",
       "20. 'max_glu_serum'\n",
       "21. 'insulin'\n",
       "22. 'change'\n",
       "23. 'diabetesMed'\n",
       "\n",
       "\n"
      ],
      "text/plain": [
       " [1] \"HbA1c\"                    \"Readmit\"                 \n",
       " [3] \"race\"                     \"gender\"                  \n",
       " [5] \"age\"                      \"admission_type_id\"       \n",
       " [7] \"discharge_disposition_id\" \"admission_source_id\"     \n",
       " [9] \"time_in_hospital\"         \"medical_specialty\"       \n",
       "[11] \"num_procedures\"           \"num_medications\"         \n",
       "[13] \"number_outpatient\"        \"number_emergency\"        \n",
       "[15] \"number_inpatient\"         \"diag_1\"                  \n",
       "[17] \"diag_2\"                   \"diag_3\"                  \n",
       "[19] \"number_diagnoses\"         \"max_glu_serum\"           \n",
       "[21] \"insulin\"                  \"change\"                  \n",
       "[23] \"diabetesMed\"             "
      ]
     },
     "metadata": {},
     "output_type": "display_data"
    }
   ],
   "source": [
    "names(data)"
   ]
  },
  {
   "cell_type": "markdown",
   "metadata": {},
   "source": [
    "Recodificando los tres **tipos de diagnósticos** y las **especialidades médicas**"
   ]
  },
  {
   "cell_type": "code",
   "execution_count": 65,
   "metadata": {},
   "outputs": [],
   "source": [
    "data = sqldf(\"select case when diag_3 between 250 and 251 then 'Diabetes' when diag_3 between 390 and 459 then 'Circulatory' when diag_3==785 then 'Circulatory' when diag_3 between 460 and 519 then 'Respiratory' when diag_3==786 then 'Respiratory' when diag_3 between 520 and 579 then 'Digestive' when diag_3==787 then 'Digestive' when diag_3 between 800 and 999 then 'Injury' when diag_3 between 710 and 739 then 'Musculoskeletal' when diag_3 between 580 and 629 then 'Genitourinary' when diag_3==788 then 'Genitourinary' when diag_3 between 140 and 239 then 'Neoplasms' else 'Others' end as Diag3, * from data\")\n",
    "\n",
    "data = sqldf(\"select case when diag_2 between 250 and 251 then 'Diabetes' when diag_2 between 390 and 459 then 'Circulatory' when diag_2==785 then 'Circulatory' when diag_2 between 460 and 519 then 'Respiratory' when diag_2==786 then 'Respiratory' when diag_2 between 520 and 579 then 'Digestive' when diag_2==787 then 'Digestive' when diag_2 between 800 and 999 then 'Injury' when diag_2 between 710 and 739 then 'Musculoskeletal' when diag_2 between 580 and 629 then 'Genitourinary' when diag_2==788 then 'Genitourinary' when diag_2 between 140 and 239 then 'Neoplasms' else 'Others' end as Diag2, * from data\")\n",
    "\n",
    "data = sqldf(\"select case when diag_1 between 250 and 251 then 'Diabetes' when diag_1 between 390 and 459 then 'Circulatory' when diag_1==785 then 'Circulatory' when diag_1 between 460 and 519 then 'Respiratory' when diag_1==786 then 'Respiratory' when diag_1 between 520 and 579 then 'Digestive' when diag_1==787 then 'Digestive' when diag_1 between 800 and 999 then 'Injury' when diag_1 between 710 and 739 then 'Musculoskeletal' when diag_1 between 580 and 629 then 'Genitourinary' when diag_1==788 then 'Genitourinary' when diag_1 between 140 and 239 then 'Neoplasms' else 'Others' end as Diag1, * from data\")\n",
    "\n",
    "data = sqldf(\"select case when medical_specialty like 'Surgery%' then 'Surgery' else medical_specialty end as MedicalSpeciality, * from data \")\n",
    "\n",
    "data$MedicalSpeciality <- as.factor(data$MedicalSpeciality)\n",
    "data = select(data, -medical_specialty)\n",
    "\n",
    "data_full = data"
   ]
  },
  {
   "cell_type": "code",
   "execution_count": 69,
   "metadata": {},
   "outputs": [
    {
     "data": {
      "text/html": [
       "<ol class=list-inline>\n",
       "\t<li>69990</li>\n",
       "\t<li>26</li>\n",
       "</ol>\n"
      ],
      "text/latex": [
       "\\begin{enumerate*}\n",
       "\\item 69990\n",
       "\\item 26\n",
       "\\end{enumerate*}\n"
      ],
      "text/markdown": [
       "1. 69990\n",
       "2. 26\n",
       "\n",
       "\n"
      ],
      "text/plain": [
       "[1] 69990    26"
      ]
     },
     "metadata": {},
     "output_type": "display_data"
    }
   ],
   "source": [
    "dim((data))"
   ]
  },
  {
   "cell_type": "markdown",
   "metadata": {},
   "source": [
    "Convirtiendo en **factores** algunas columnas correspondientes a variables categóricas."
   ]
  },
  {
   "cell_type": "code",
   "execution_count": 70,
   "metadata": {},
   "outputs": [],
   "source": [
    "data$Readmit <- as.factor(data$Readmit)\n",
    "data$race <- as.factor(data$race)\n",
    "data$Diag1 <- as.factor(data$Diag1)\n",
    "data$Diag2 <- as.factor(data$Diag2)\n",
    "data$Diag3 <- as.factor(data$Diag3)\n",
    "data$HbA1c <- as.factor(data$HbA1c)\n",
    "data$MedicalSpeciality <-as.factor(data$MedicalSpeciality)"
   ]
  },
  {
   "cell_type": "markdown",
   "metadata": {},
   "source": [
    "### Gráficos descriptivos y exploratorios."
   ]
  },
  {
   "cell_type": "code",
   "execution_count": 44,
   "metadata": {
    "scrolled": false
   },
   "outputs": [
    {
     "data": {
      "text/html": [
       "<ol class=list-inline>\n",
       "\t<li>'AfricanAmerican'</li>\n",
       "\t<li>'Asian'</li>\n",
       "\t<li>'Caucasian'</li>\n",
       "\t<li>'Hispanic'</li>\n",
       "\t<li>'Other'</li>\n",
       "\t<li>'Missing'</li>\n",
       "</ol>\n"
      ],
      "text/latex": [
       "\\begin{enumerate*}\n",
       "\\item 'AfricanAmerican'\n",
       "\\item 'Asian'\n",
       "\\item 'Caucasian'\n",
       "\\item 'Hispanic'\n",
       "\\item 'Other'\n",
       "\\item 'Missing'\n",
       "\\end{enumerate*}\n"
      ],
      "text/markdown": [
       "1. 'AfricanAmerican'\n",
       "2. 'Asian'\n",
       "3. 'Caucasian'\n",
       "4. 'Hispanic'\n",
       "5. 'Other'\n",
       "6. 'Missing'\n",
       "\n",
       "\n"
      ],
      "text/plain": [
       "[1] \"AfricanAmerican\" \"Asian\"           \"Caucasian\"       \"Hispanic\"       \n",
       "[5] \"Other\"           \"Missing\"        "
      ]
     },
     "metadata": {},
     "output_type": "display_data"
    },
    {
     "data": {
      "image/png": "[encoded data removed]",
      "text/plain": [
       "Plot with title \"Race distribution\""
      ]
     },
     "metadata": {},
     "output_type": "display_data"
    }
   ],
   "source": [
    "levels(data$race)\n",
    "plot(data$race, main = \"Race distribution\")"
   ]
  },
  {
   "cell_type": "markdown",
   "metadata": {},
   "source": [
    "Del grafico se puede observar la dominancia de la raza `Caucasian`y la introducción de una nueva categoría llamada `Missing`, la cual representa una pequeña procorción del total de casos."
   ]
  },
  {
   "cell_type": "code",
   "execution_count": 45,
   "metadata": {
    "scrolled": false
   },
   "outputs": [
    {
     "data": {
      "image/png": "[encoded data removed]",
      "text/plain": [
       "Plot with title \"Age distribution\""
      ]
     },
     "metadata": {},
     "output_type": "display_data"
    }
   ],
   "source": [
    "plot(data$age, main = \"Age distribution\")"
   ]
  },
  {
   "cell_type": "markdown",
   "metadata": {},
   "source": [
    "La gráfica de la **edad** (categorizada pr intervalos de 10 años) muestra que la gran mayoría de los pacientes están en el rango de los 40 a los 80 años."
   ]
  },
  {
   "cell_type": "code",
   "execution_count": 46,
   "metadata": {},
   "outputs": [
    {
     "data": {
      "image/png": "[encoded data removed]",
      "text/plain": [
       "Plot with title \"Gender distribution\""
      ]
     },
     "metadata": {},
     "output_type": "display_data"
    }
   ],
   "source": [
    "plot(data$gender, main = \"Gender distribution\") "
   ]
  },
  {
   "cell_type": "markdown",
   "metadata": {},
   "source": [
    "La gráfica del **género** muestra una ligera superioridad en fecuencia para el género `femenino` además de unos pocos pacienntes a quienes NO se les registró esta variable."
   ]
  },
  {
   "cell_type": "code",
   "execution_count": 71,
   "metadata": {},
   "outputs": [
    {
     "data": {
      "image/png": "[encoded data removed]",
      "text/plain": [
       "Plot with title \"Readmissions\""
      ]
     },
     "metadata": {},
     "output_type": "display_data"
    }
   ],
   "source": [
    "barplot(table(data$Readmit), main = \"Readmissions\") "
   ]
  },
  {
   "cell_type": "markdown",
   "metadata": {},
   "source": [
    "El gráfico de la variable **readmitted** muestra que le porcentaje de personas radmitidas anntes de 30 días (grupo objetivo) es extremadamente pequeño, por lo cual hay un gran **problema de desbalanceo** si se considera construir un modelo de clasifiación."
   ]
  },
  {
   "cell_type": "code",
   "execution_count": 72,
   "metadata": {},
   "outputs": [
    {
     "data": {
      "image/png": "[encoded data removed]",
      "text/plain": [
       "plot without title"
      ]
     },
     "metadata": {},
     "output_type": "display_data"
    }
   ],
   "source": [
    "g <- ggplot(data, aes(x=age, y=time_in_hospital))\n",
    "g + geom_boxplot(aes(fill=  as.factor(Readmit)   ))"
   ]
  },
  {
   "cell_type": "markdown",
   "metadata": {},
   "source": [
    "El gráfico anterior muestra la relación entre el **número de días interno** para cada paciente contra su **edad** y su condición de **readmitido**. Cabe resaltar como los pacienntes readmitidos antes de 30 días muestran las distribuciones más segadas, lo cual se podría interpretar como:\n",
    "\n",
    "**Entre más días demore un paciente hopitalizado, más propenso es a ser readmitido**"
   ]
  },
  {
   "cell_type": "code",
   "execution_count": 62,
   "metadata": {},
   "outputs": [
    {
     "data": {
      "image/png": "[encoded data removed]",
      "text/plain": [
       "plot without title"
      ]
     },
     "metadata": {},
     "output_type": "display_data"
    }
   ],
   "source": [
    "g <- ggplot(data,aes(x=HbA1c, y=time_in_hospital))\n",
    "g + geom_boxplot(aes(fill=diabetesMed)) + facet_grid(. ~ as.factor(Readmit) )"
   ]
  },
  {
   "cell_type": "markdown",
   "metadata": {},
   "source": [
    "El gráfico anterior muestra que además de pasar (en promedio) **más dias hospitalizados**, los pacientes reingresados tienen valores altos en la **prueba de hemoglobina glicosilada** (HbA1c) y además recibieron **medicamentos** para la diabetes."
   ]
  },
  {
   "cell_type": "code",
   "execution_count": 103,
   "metadata": {
    "scrolled": false
   },
   "outputs": [
    {
     "data": {
      "text/html": [
       "<table>\n",
       "<thead><tr><th></th><th scope=col>MedicalSpeciality</th><th scope=col>FrequencyType</th><th scope=col>Value</th></tr></thead>\n",
       "<tbody>\n",
       "\t<tr><th scope=row>184</th><td>Missing               </td><td>Cum.Percent.          </td><td>48.08401              </td></tr>\n",
       "\t<tr><th scope=row>185</th><td>InternalMedicine      </td><td>Cum.Percent.          </td><td>63.28761              </td></tr>\n",
       "\t<tr><th scope=row>186</th><td>Family/GeneralPractice</td><td>Cum.Percent.          </td><td>70.40006              </td></tr>\n",
       "\t<tr><th scope=row>187</th><td>Emergency/Trauma      </td><td>Cum.Percent.          </td><td>76.67667              </td></tr>\n",
       "\t<tr><th scope=row>188</th><td>Cardiology            </td><td>Cum.Percent.          </td><td>82.68896              </td></tr>\n",
       "\t<tr><th scope=row>189</th><td>Surgery               </td><td>Cum.Percent.          </td><td>87.95399              </td></tr>\n",
       "</tbody>\n",
       "</table>\n"
      ],
      "text/latex": [
       "\\begin{tabular}{r|lll}\n",
       "  & MedicalSpeciality & FrequencyType & Value\\\\\n",
       "\\hline\n",
       "\t184 & Missing                & Cum.Percent.           & 48.08401              \\\\\n",
       "\t185 & InternalMedicine       & Cum.Percent.           & 63.28761              \\\\\n",
       "\t186 & Family/GeneralPractice & Cum.Percent.           & 70.40006              \\\\\n",
       "\t187 & Emergency/Trauma       & Cum.Percent.           & 76.67667              \\\\\n",
       "\t188 & Cardiology             & Cum.Percent.           & 82.68896              \\\\\n",
       "\t189 & Surgery                & Cum.Percent.           & 87.95399              \\\\\n",
       "\\end{tabular}\n"
      ],
      "text/markdown": [
       "\n",
       "| <!--/--> | MedicalSpeciality | FrequencyType | Value |\n",
       "|---|---|---|---|\n",
       "| 184 | Missing                | Cum.Percent.           | 48.08401               |\n",
       "| 185 | InternalMedicine       | Cum.Percent.           | 63.28761               |\n",
       "| 186 | Family/GeneralPractice | Cum.Percent.           | 70.40006               |\n",
       "| 187 | Emergency/Trauma       | Cum.Percent.           | 76.67667               |\n",
       "| 188 | Cardiology             | Cum.Percent.           | 82.68896               |\n",
       "| 189 | Surgery                | Cum.Percent.           | 87.95399               |\n",
       "\n"
      ],
      "text/plain": [
       "    MedicalSpeciality      FrequencyType Value   \n",
       "184 Missing                Cum.Percent.  48.08401\n",
       "185 InternalMedicine       Cum.Percent.  63.28761\n",
       "186 Family/GeneralPractice Cum.Percent.  70.40006\n",
       "187 Emergency/Trauma       Cum.Percent.  76.67667\n",
       "188 Cardiology             Cum.Percent.  82.68896\n",
       "189 Surgery                Cum.Percent.  87.95399"
      ]
     },
     "metadata": {},
     "output_type": "display_data"
    }
   ],
   "source": [
    "library(qcc)\n",
    "Pareto=as.data.frame(pareto.chart(table(data$MedicalSpeciality),plot=F))\n",
    "names(Pareto)=c(\"MedicalSpeciality\",\"FrequencyType\", \"Value\")\n",
    "head(Pareto[Pareto$FrequencyType==\"Cum.Percent.\",])\n",
    "#plot(data$MedicalSpeciality, main=\"Medical Speciality\")"
   ]
  },
  {
   "cell_type": "markdown",
   "metadata": {},
   "source": [
    "La tabla y el **diagrama de Pareto** muestran que casi la mitad de los registros no tiene una especialidad médica registrada (`Missing`) y junto con las 4 categorías **InternalMedicine**, **Family/GeneralPractice**, **Emergency/Trauma** y **Cardiology** acumulan alrededor del $82\\%$ de los casos"
   ]
  },
  {
   "cell_type": "code",
   "execution_count": 104,
   "metadata": {},
   "outputs": [
    {
     "data": {
      "text/html": [],
      "text/latex": [],
      "text/markdown": [],
      "text/plain": [
       "numeric(0)"
      ]
     },
     "metadata": {},
     "output_type": "display_data"
    },
    {
     "data": {
      "image/png": "[encoded data removed]",
      "text/plain": [
       "plot without title"
      ]
     },
     "metadata": {},
     "output_type": "display_data"
    }
   ],
   "source": [
    "pareto.chart(table(data$MedicalSpeciality),plot=T)[0]"
   ]
  },
  {
   "cell_type": "markdown",
   "metadata": {},
   "source": [
    "A continuación se mustran los gráficos para los tres tipos de diagnósticos:"
   ]
  },
  {
   "cell_type": "code",
   "execution_count": 111,
   "metadata": {},
   "outputs": [
    {
     "data": {
      "text/html": [],
      "text/latex": [],
      "text/markdown": [],
      "text/plain": [
       "numeric(0)"
      ]
     },
     "metadata": {},
     "output_type": "display_data"
    },
    {
     "data": {
      "image/png": "[encoded data removed]",
      "text/plain": [
       "plot without title"
      ]
     },
     "metadata": {},
     "output_type": "display_data"
    }
   ],
   "source": [
    "# par(mfrow = c(3,1))\n",
    "pareto.chart(table(data$Diag1),plot=T,main=\"Diagnóstico 1\")[0]\n"
   ]
  },
  {
   "cell_type": "code",
   "execution_count": 107,
   "metadata": {},
   "outputs": [
    {
     "data": {
      "text/html": [],
      "text/latex": [],
      "text/markdown": [],
      "text/plain": [
       "numeric(0)"
      ]
     },
     "metadata": {},
     "output_type": "display_data"
    },
    {
     "data": {
      "image/png": "[encoded data removed]",
      "text/plain": [
       "plot without title"
      ]
     },
     "metadata": {},
     "output_type": "display_data"
    }
   ],
   "source": [
    "pareto.chart(table(data$Diag2),plot=T,main=\"Diagnóstico 2\")[0]"
   ]
  },
  {
   "cell_type": "code",
   "execution_count": 108,
   "metadata": {
    "scrolled": false
   },
   "outputs": [
    {
     "data": {
      "text/html": [],
      "text/latex": [],
      "text/markdown": [],
      "text/plain": [
       "numeric(0)"
      ]
     },
     "metadata": {},
     "output_type": "display_data"
    },
    {
     "data": {
      "image/png": "[encoded data removed]",
      "text/plain": [
       "plot without title"
      ]
     },
     "metadata": {},
     "output_type": "display_data"
    }
   ],
   "source": [
    "pareto.chart(table(data$Diag3),plot=T,main=\"Diagnóstico 3\")[0]"
   ]
  },
  {
   "cell_type": "markdown",
   "metadata": {},
   "source": [
    "De las tres gráficas se puede observar que los problemas circulatorios representan la mayor cantidad de casos para los tres diagnósticos. La **diabetes** solo cobra relevenacia como la tercera causa a partir del diagnóstico 2."
   ]
  },
  {
   "cell_type": "markdown",
   "metadata": {},
   "source": [
    "A continuación se elimminan columnas adicionales y se fusionan las columnas **HbA1c** y **change** como una sola llamada `Reaction`"
   ]
  },
  {
   "cell_type": "code",
   "execution_count": 112,
   "metadata": {},
   "outputs": [],
   "source": [
    "data = select(data, -diag_1, -diag_2, -diag_3, -admission_source_id, -num_procedures, -num_medications, -number_outpatient, -number_emergency, -number_inpatient)\n",
    "\n",
    "data = select(data, -Diag2, -Diag3, -number_diagnoses, -max_glu_serum, -insulin, -diabetesMed)\n",
    "\n",
    "data = sqldf(\"select case when HbA1c is 'High' and change is 'Ch' then 'High&Ch' when HbA1c is 'High' and change is 'No' then 'High&Not' else HbA1c end as Reaction, Diag1 as Pri_diag, * from data\")\n",
    "\n",
    "# Conversión a factores\n",
    "data$Reaction <- as.factor(data$Reaction)\n",
    "data$race <- as.factor(data$race)\n",
    "data$discharge_disposition_id <- as.factor(data$discharge_disposition_id)\n",
    "data$admission_type_id <- as.factor(data$admission_type_id)\n",
    "\n",
    "# Removiendo duplicados\n",
    "data = select(data, -Diag1, -HbA1c, -change)"
   ]
  },
  {
   "cell_type": "code",
   "execution_count": 113,
   "metadata": {},
   "outputs": [
    {
     "data": {
      "text/html": [
       "<ol class=list-inline>\n",
       "\t<li>69990</li>\n",
       "\t<li>10</li>\n",
       "</ol>\n"
      ],
      "text/latex": [
       "\\begin{enumerate*}\n",
       "\\item 69990\n",
       "\\item 10\n",
       "\\end{enumerate*}\n"
      ],
      "text/markdown": [
       "1. 69990\n",
       "2. 10\n",
       "\n",
       "\n"
      ],
      "text/plain": [
       "[1] 69990    10"
      ]
     },
     "metadata": {},
     "output_type": "display_data"
    }
   ],
   "source": [
    "dim(data)"
   ]
  },
  {
   "cell_type": "code",
   "execution_count": 114,
   "metadata": {},
   "outputs": [
    {
     "data": {
      "text/html": [
       "<table>\n",
       "<thead><tr><th scope=col>Medical_speciality</th><th scope=col>Age_</th><th scope=col>race_</th><th scope=col>Admission</th><th scope=col>Discharge</th><th scope=col>Reaction</th><th scope=col>Pri_diag</th><th scope=col>Readmit</th><th scope=col>time_in_hospital</th></tr></thead>\n",
       "<tbody>\n",
       "\t<tr><td>Cardiology      </td><td>[30, 60)        </td><td>Caucasian       </td><td>Other           </td><td>Home            </td><td>None            </td><td>Circulatory     </td><td>1               </td><td>8               </td></tr>\n",
       "\t<tr><td>Surgery         </td><td>[30, 60)        </td><td>Caucasian       </td><td>Other           </td><td>Home            </td><td>None            </td><td>Musculoskeletal </td><td>0               </td><td>2               </td></tr>\n",
       "\t<tr><td>InternalMedicine</td><td>[60, 100)       </td><td>Caucasian       </td><td>Emergency       </td><td>Other           </td><td>Norm            </td><td>Injury          </td><td>0               </td><td>4               </td></tr>\n",
       "\t<tr><td>InternalMedicine                                       </td><td>[60, 100)                                              </td><td><span style=white-space:pre-wrap>Caucasian      </span></td><td>Emergency                                              </td><td>Home                                                   </td><td>High&amp;Ch                                            </td><td><span style=white-space:pre-wrap>Others         </span></td><td>0                                                      </td><td>3                                                      </td></tr>\n",
       "\t<tr><td>InternalMedicine</td><td>[30, 60)        </td><td>AfricanAmerican </td><td>Emergency       </td><td>Home            </td><td>None            </td><td>Genitourinary   </td><td>0               </td><td>5               </td></tr>\n",
       "\t<tr><td>Other           </td><td>[30, 60)        </td><td>AfricanAmerican </td><td>Emergency       </td><td>Home            </td><td>None            </td><td>Others          </td><td>0               </td><td>6               </td></tr>\n",
       "</tbody>\n",
       "</table>\n"
      ],
      "text/latex": [
       "\\begin{tabular}{r|lllllllll}\n",
       " Medical\\_speciality & Age\\_ & race\\_ & Admission & Discharge & Reaction & Pri\\_diag & Readmit & time\\_in\\_hospital\\\\\n",
       "\\hline\n",
       "\t Cardiology       & {[}30, 60)       & Caucasian        & Other            & Home             & None             & Circulatory      & 1                & 8               \\\\\n",
       "\t Surgery          & {[}30, 60)       & Caucasian        & Other            & Home             & None             & Musculoskeletal  & 0                & 2               \\\\\n",
       "\t InternalMedicine & {[}60, 100)      & Caucasian        & Emergency        & Other            & Norm             & Injury           & 0                & 4               \\\\\n",
       "\t InternalMedicine & {[}60, 100)      & Caucasian        & Emergency        & Home             & High\\&Ch        & Others           & 0                & 3               \\\\\n",
       "\t InternalMedicine & {[}30, 60)       & AfricanAmerican  & Emergency        & Home             & None             & Genitourinary    & 0                & 5               \\\\\n",
       "\t Other            & {[}30, 60)       & AfricanAmerican  & Emergency        & Home             & None             & Others           & 0                & 6               \\\\\n",
       "\\end{tabular}\n"
      ],
      "text/markdown": [
       "\n",
       "| Medical_speciality | Age_ | race_ | Admission | Discharge | Reaction | Pri_diag | Readmit | time_in_hospital |\n",
       "|---|---|---|---|---|---|---|---|---|\n",
       "| Cardiology       | [30, 60)         | Caucasian        | Other            | Home             | None             | Circulatory      | 1                | 8                |\n",
       "| Surgery          | [30, 60)         | Caucasian        | Other            | Home             | None             | Musculoskeletal  | 0                | 2                |\n",
       "| InternalMedicine | [60, 100)        | Caucasian        | Emergency        | Other            | Norm             | Injury           | 0                | 4                |\n",
       "| InternalMedicine | [60, 100)        | Caucasian        | Emergency        | Home             | High&Ch          | Others           | 0                | 3                |\n",
       "| InternalMedicine | [30, 60)         | AfricanAmerican  | Emergency        | Home             | None             | Genitourinary    | 0                | 5                |\n",
       "| Other            | [30, 60)         | AfricanAmerican  | Emergency        | Home             | None             | Others           | 0                | 6                |\n",
       "\n"
      ],
      "text/plain": [
       "  Medical_speciality Age_      race_           Admission Discharge Reaction\n",
       "1 Cardiology         [30, 60)  Caucasian       Other     Home      None    \n",
       "2 Surgery            [30, 60)  Caucasian       Other     Home      None    \n",
       "3 InternalMedicine   [60, 100) Caucasian       Emergency Other     Norm    \n",
       "4 InternalMedicine   [60, 100) Caucasian       Emergency Home      High&Ch \n",
       "5 InternalMedicine   [30, 60)  AfricanAmerican Emergency Home      None    \n",
       "6 Other              [30, 60)  AfricanAmerican Emergency Home      None    \n",
       "  Pri_diag        Readmit time_in_hospital\n",
       "1 Circulatory     1       8               \n",
       "2 Musculoskeletal 0       2               \n",
       "3 Injury          0       4               \n",
       "4 Others          0       3               \n",
       "5 Genitourinary   0       5               \n",
       "6 Others          0       6               "
      ]
     },
     "metadata": {},
     "output_type": "display_data"
    }
   ],
   "source": [
    "data2 = data\n",
    "data2$race<- as.factor(data2$race)\n",
    "data2 = select(data2, -gender)\n",
    "data2 = sqldf(\"select case discharge_disposition_id when 1 then 'Home' else 'Other' end as Discharge, * from data2\")\n",
    "data2 = sqldf(\"select case admission_type_id when 1 or 2 then 'Emergency' when 7 then 'referral' else 'Other' end as Admission, * from data2\")\n",
    "data2 = sqldf(\"select case race when 'AfricanAmerican' then 'AfricanAmerican' when 'Caucasian' then 'Caucasian' when 'Missing' then 'Missing' else 'Other' end as race_, * from data2\")\n",
    "data2 = sqldf(\"select case age when '[30-40)' then '[30, 60)' when '[40-50)' then '[30, 60)' when '[50-60)' then '[30, 60)' when '[0-10)' then '<30' when '[10-20)' then '<30' when '[20, 30)' then '<30' else '[60, 100)' end as Age_, * from data2\")\n",
    "data2 = sqldf(\"select case MedicalSpeciality when 'Missing' then 'Missing' when 'Cardiology' then 'Cardiology' when 'Family/GeneralPractice' then 'GeneralPractice' when 'InternalMedicine' then 'InternalMedicine' when 'Surgery' then 'Surgery' else 'Other' end as Medical_speciality, * from data2\")\n",
    "data2$race_<-as.factor(data2$race_)\n",
    "data2$Admission<-as.factor(data2$Admission)\n",
    "data2$Discharge<-as.factor(data2$Discharge)\n",
    "data2$Pri_diag <- as.factor(data2$Pri_diag)\n",
    "data2$Age_ <- as.factor(data2$Age_)\n",
    "data2$Medical_speciality <- as.factor(data2$Medical_speciality)\n",
    "data2 = select(data2, -race, -admission_type_id, -discharge_disposition_id, -age, -MedicalSpeciality)\n",
    "head(data2)"
   ]
  },
  {
   "cell_type": "code",
   "execution_count": 119,
   "metadata": {},
   "outputs": [
    {
     "data": {
      "text/html": [
       "<ol class=list-inline>\n",
       "\t<li>69990</li>\n",
       "\t<li>9</li>\n",
       "</ol>\n"
      ],
      "text/latex": [
       "\\begin{enumerate*}\n",
       "\\item 69990\n",
       "\\item 9\n",
       "\\end{enumerate*}\n"
      ],
      "text/markdown": [
       "1. 69990\n",
       "2. 9\n",
       "\n",
       "\n"
      ],
      "text/plain": [
       "[1] 69990     9"
      ]
     },
     "metadata": {},
     "output_type": "display_data"
    },
    {
     "data": {
      "text/html": [
       "<ol class=list-inline>\n",
       "\t<li>'race'</li>\n",
       "\t<li>'gender'</li>\n",
       "\t<li>'age'</li>\n",
       "\t<li>'discharge_disposition_id'</li>\n",
       "\t<li>'admission_source_id'</li>\n",
       "\t<li>'time_in_hospital'</li>\n",
       "\t<li>'medical_specialty'</li>\n",
       "\t<li>'diag_1'</li>\n",
       "\t<li>'A1Cresult'</li>\n",
       "\t<li>'change'</li>\n",
       "\t<li>'readmitted'</li>\n",
       "</ol>\n"
      ],
      "text/latex": [
       "\\begin{enumerate*}\n",
       "\\item 'race'\n",
       "\\item 'gender'\n",
       "\\item 'age'\n",
       "\\item 'discharge\\_disposition\\_id'\n",
       "\\item 'admission\\_source\\_id'\n",
       "\\item 'time\\_in\\_hospital'\n",
       "\\item 'medical\\_specialty'\n",
       "\\item 'diag\\_1'\n",
       "\\item 'A1Cresult'\n",
       "\\item 'change'\n",
       "\\item 'readmitted'\n",
       "\\end{enumerate*}\n"
      ],
      "text/markdown": [
       "1. 'race'\n",
       "2. 'gender'\n",
       "3. 'age'\n",
       "4. 'discharge_disposition_id'\n",
       "5. 'admission_source_id'\n",
       "6. 'time_in_hospital'\n",
       "7. 'medical_specialty'\n",
       "8. 'diag_1'\n",
       "9. 'A1Cresult'\n",
       "10. 'change'\n",
       "11. 'readmitted'\n",
       "\n",
       "\n"
      ],
      "text/plain": [
       " [1] \"race\"                     \"gender\"                  \n",
       " [3] \"age\"                      \"discharge_disposition_id\"\n",
       " [5] \"admission_source_id\"      \"time_in_hospital\"        \n",
       " [7] \"medical_specialty\"        \"diag_1\"                  \n",
       " [9] \"A1Cresult\"                \"change\"                  \n",
       "[11] \"readmitted\"              "
      ]
     },
     "metadata": {},
     "output_type": "display_data"
    }
   ],
   "source": [
    "dim(data2)\n",
    "c('race','gender','age','discharge_disposition_id','admission_source_id','time_in_hospital','medical_specialty','diag_1','A1Cresult','change','readmitted')"
   ]
  },
  {
   "cell_type": "markdown",
   "metadata": {},
   "source": [
    "Finalmente se exporta el conjunto de datos a utilizar para la **etapa de modelamiento**:"
   ]
  },
  {
   "cell_type": "code",
   "execution_count": 124,
   "metadata": {},
   "outputs": [],
   "source": [
    "write.csv(data2,'diabetic_data_cleaned.csv', row.names = FALSE)"
   ]
  }
 ],
 "metadata": {
  "kernelspec": {
   "display_name": "R",
   "language": "R",
   "name": "ir"
  },
  "language_info": {
   "codemirror_mode": "r",
   "file_extension": ".r",
   "mimetype": "text/x-r-source",
   "name": "R",
   "pygments_lexer": "r",
   "version": "3.6.1"
  }
 },
 "nbformat": 4,
 "nbformat_minor": 4
}
