{
 "cells": [
  {
   "cell_type": "markdown",
   "metadata": {},
   "source": [
    "# Análisis de reingresos hospitalarios para pacientes con diabetes. \n",
    "\n",
    "Etapa de modelamiento y hallazgos\n",
    "\n",
    "Se decidió  ajustar modelos de clasificación con el ibjetivo de encontrar las variables que más contribuyan a la prediccón correcta de los reingresos en menos de 30 días."
   ]
  },
  {
   "cell_type": "code",
   "execution_count": 2,
   "metadata": {},
   "outputs": [],
   "source": [
    "# librerias requeridas:\n",
    "\n",
    "import os\n",
    "import pandas as pd\n",
    "import numpy as np\n",
    "import plotly.express as px\n",
    "from datetime import datetime"
   ]
  },
  {
   "cell_type": "code",
   "execution_count": 4,
   "metadata": {},
   "outputs": [
    {
     "name": "stdout",
     "output_type": "stream",
     "text": [
      "2020-12-28 13:58:33.860909\n"
     ]
    },
    {
     "name": "stderr",
     "output_type": "stream",
     "text": [
      "C:\\Users\\emilio\\.conda\\envs\\TMO_3_7\\lib\\site-packages\\IPython\\core\\interactiveshell.py:3063: DtypeWarning: Columns (10) have mixed types.Specify dtype option on import or set low_memory=False.\n",
      "  interactivity=interactivity, compiler=compiler, result=result)\n"
     ]
    },
    {
     "data": {
      "text/html": [
       "<div>\n",
       "<style scoped>\n",
       "    .dataframe tbody tr th:only-of-type {\n",
       "        vertical-align: middle;\n",
       "    }\n",
       "\n",
       "    .dataframe tbody tr th {\n",
       "        vertical-align: top;\n",
       "    }\n",
       "\n",
       "    .dataframe thead th {\n",
       "        text-align: right;\n",
       "    }\n",
       "</style>\n",
       "<table border=\"1\" class=\"dataframe\">\n",
       "  <thead>\n",
       "    <tr style=\"text-align: right;\">\n",
       "      <th></th>\n",
       "      <th>encounter_id</th>\n",
       "      <th>patient_nbr</th>\n",
       "      <th>race</th>\n",
       "      <th>gender</th>\n",
       "      <th>age</th>\n",
       "      <th>weight</th>\n",
       "      <th>admission_type_id</th>\n",
       "      <th>discharge_disposition_id</th>\n",
       "      <th>admission_source_id</th>\n",
       "      <th>time_in_hospital</th>\n",
       "      <th>...</th>\n",
       "      <th>citoglipton</th>\n",
       "      <th>insulin</th>\n",
       "      <th>glyburide-metformin</th>\n",
       "      <th>glipizide-metformin</th>\n",
       "      <th>glimepiride-pioglitazone</th>\n",
       "      <th>metformin-rosiglitazone</th>\n",
       "      <th>metformin-pioglitazone</th>\n",
       "      <th>change</th>\n",
       "      <th>diabetesMed</th>\n",
       "      <th>readmitted</th>\n",
       "    </tr>\n",
       "  </thead>\n",
       "  <tbody>\n",
       "    <tr>\n",
       "      <th>0</th>\n",
       "      <td>2278392</td>\n",
       "      <td>8222157</td>\n",
       "      <td>Caucasian</td>\n",
       "      <td>Female</td>\n",
       "      <td>[0-10)</td>\n",
       "      <td>NaN</td>\n",
       "      <td>6</td>\n",
       "      <td>25</td>\n",
       "      <td>1</td>\n",
       "      <td>1</td>\n",
       "      <td>...</td>\n",
       "      <td>No</td>\n",
       "      <td>No</td>\n",
       "      <td>No</td>\n",
       "      <td>No</td>\n",
       "      <td>No</td>\n",
       "      <td>No</td>\n",
       "      <td>No</td>\n",
       "      <td>No</td>\n",
       "      <td>No</td>\n",
       "      <td>NO</td>\n",
       "    </tr>\n",
       "    <tr>\n",
       "      <th>1</th>\n",
       "      <td>149190</td>\n",
       "      <td>55629189</td>\n",
       "      <td>Caucasian</td>\n",
       "      <td>Female</td>\n",
       "      <td>[10-20)</td>\n",
       "      <td>NaN</td>\n",
       "      <td>1</td>\n",
       "      <td>1</td>\n",
       "      <td>7</td>\n",
       "      <td>3</td>\n",
       "      <td>...</td>\n",
       "      <td>No</td>\n",
       "      <td>Up</td>\n",
       "      <td>No</td>\n",
       "      <td>No</td>\n",
       "      <td>No</td>\n",
       "      <td>No</td>\n",
       "      <td>No</td>\n",
       "      <td>Ch</td>\n",
       "      <td>Yes</td>\n",
       "      <td>&gt;30</td>\n",
       "    </tr>\n",
       "    <tr>\n",
       "      <th>2</th>\n",
       "      <td>64410</td>\n",
       "      <td>86047875</td>\n",
       "      <td>AfricanAmerican</td>\n",
       "      <td>Female</td>\n",
       "      <td>[20-30)</td>\n",
       "      <td>NaN</td>\n",
       "      <td>1</td>\n",
       "      <td>1</td>\n",
       "      <td>7</td>\n",
       "      <td>2</td>\n",
       "      <td>...</td>\n",
       "      <td>No</td>\n",
       "      <td>No</td>\n",
       "      <td>No</td>\n",
       "      <td>No</td>\n",
       "      <td>No</td>\n",
       "      <td>No</td>\n",
       "      <td>No</td>\n",
       "      <td>No</td>\n",
       "      <td>Yes</td>\n",
       "      <td>NO</td>\n",
       "    </tr>\n",
       "    <tr>\n",
       "      <th>3</th>\n",
       "      <td>500364</td>\n",
       "      <td>82442376</td>\n",
       "      <td>Caucasian</td>\n",
       "      <td>Male</td>\n",
       "      <td>[30-40)</td>\n",
       "      <td>NaN</td>\n",
       "      <td>1</td>\n",
       "      <td>1</td>\n",
       "      <td>7</td>\n",
       "      <td>2</td>\n",
       "      <td>...</td>\n",
       "      <td>No</td>\n",
       "      <td>Up</td>\n",
       "      <td>No</td>\n",
       "      <td>No</td>\n",
       "      <td>No</td>\n",
       "      <td>No</td>\n",
       "      <td>No</td>\n",
       "      <td>Ch</td>\n",
       "      <td>Yes</td>\n",
       "      <td>NO</td>\n",
       "    </tr>\n",
       "    <tr>\n",
       "      <th>4</th>\n",
       "      <td>16680</td>\n",
       "      <td>42519267</td>\n",
       "      <td>Caucasian</td>\n",
       "      <td>Male</td>\n",
       "      <td>[40-50)</td>\n",
       "      <td>NaN</td>\n",
       "      <td>1</td>\n",
       "      <td>1</td>\n",
       "      <td>7</td>\n",
       "      <td>1</td>\n",
       "      <td>...</td>\n",
       "      <td>No</td>\n",
       "      <td>Steady</td>\n",
       "      <td>No</td>\n",
       "      <td>No</td>\n",
       "      <td>No</td>\n",
       "      <td>No</td>\n",
       "      <td>No</td>\n",
       "      <td>Ch</td>\n",
       "      <td>Yes</td>\n",
       "      <td>NO</td>\n",
       "    </tr>\n",
       "  </tbody>\n",
       "</table>\n",
       "<p>5 rows × 50 columns</p>\n",
       "</div>"
      ],
      "text/plain": [
       "   encounter_id  patient_nbr             race  gender      age weight  \\\n",
       "0       2278392      8222157        Caucasian  Female   [0-10)    NaN   \n",
       "1        149190     55629189        Caucasian  Female  [10-20)    NaN   \n",
       "2         64410     86047875  AfricanAmerican  Female  [20-30)    NaN   \n",
       "3        500364     82442376        Caucasian    Male  [30-40)    NaN   \n",
       "4         16680     42519267        Caucasian    Male  [40-50)    NaN   \n",
       "\n",
       "   admission_type_id  discharge_disposition_id  admission_source_id  \\\n",
       "0                  6                        25                    1   \n",
       "1                  1                         1                    7   \n",
       "2                  1                         1                    7   \n",
       "3                  1                         1                    7   \n",
       "4                  1                         1                    7   \n",
       "\n",
       "   time_in_hospital  ... citoglipton insulin  glyburide-metformin  \\\n",
       "0                 1  ...          No      No                   No   \n",
       "1                 3  ...          No      Up                   No   \n",
       "2                 2  ...          No      No                   No   \n",
       "3                 2  ...          No      Up                   No   \n",
       "4                 1  ...          No  Steady                   No   \n",
       "\n",
       "   glipizide-metformin  glimepiride-pioglitazone  metformin-rosiglitazone  \\\n",
       "0                   No                        No                       No   \n",
       "1                   No                        No                       No   \n",
       "2                   No                        No                       No   \n",
       "3                   No                        No                       No   \n",
       "4                   No                        No                       No   \n",
       "\n",
       "   metformin-pioglitazone  change diabetesMed readmitted  \n",
       "0                      No      No          No         NO  \n",
       "1                      No      Ch         Yes        >30  \n",
       "2                      No      No         Yes         NO  \n",
       "3                      No      Ch         Yes         NO  \n",
       "4                      No      Ch         Yes         NO  \n",
       "\n",
       "[5 rows x 50 columns]"
      ]
     },
     "execution_count": 4,
     "metadata": {},
     "output_type": "execute_result"
    }
   ],
   "source": [
    "# Lectura de los datos originales:\n",
    "print(datetime.now())\n",
    "\n",
    "data=pd.read_csv('G:\\\\Shared drives\\\\Books_and_Code_for_Colab_(R and Python)\\\\ifood_technical_test\\\\ifood_diabetes_project\\\\Data\\\\diabetic_data.csv',na_values=\"?\")\n",
    "data.shape\n",
    "data.head()"
   ]
  },
  {
   "cell_type": "code",
   "execution_count": 86,
   "metadata": {},
   "outputs": [
    {
     "name": "stdout",
     "output_type": "stream",
     "text": [
      "2020-12-30 03:32:50.573475\n"
     ]
    }
   ],
   "source": [
    "print(datetime.now())\n",
    "# data.info()"
   ]
  },
  {
   "cell_type": "code",
   "execution_count": 7,
   "metadata": {},
   "outputs": [
    {
     "name": "stdout",
     "output_type": "stream",
     "text": [
      "2020-12-28 14:08:05.380842\n"
     ]
    },
    {
     "data": {
      "text/plain": [
       "71518"
      ]
     },
     "execution_count": 7,
     "metadata": {},
     "output_type": "execute_result"
    }
   ],
   "source": [
    "print(datetime.now())\n",
    "len(data.patient_nbr.unique())"
   ]
  },
  {
   "cell_type": "code",
   "execution_count": 8,
   "metadata": {},
   "outputs": [
    {
     "data": {
      "text/plain": [
       "None    84748\n",
       ">8       8216\n",
       "Norm     4990\n",
       ">7       3812\n",
       "Name: A1Cresult, dtype: int64"
      ]
     },
     "execution_count": 8,
     "metadata": {},
     "output_type": "execute_result"
    }
   ],
   "source": [
    "data.A1Cresult.value_counts()"
   ]
  },
  {
   "cell_type": "markdown",
   "metadata": {},
   "source": [
    "## Lectura de datos \"pre-procesados\"\n",
    "\n",
    "Este archivo proviene del proceso de limpieza y exploración desarrollado en `R`"
   ]
  },
  {
   "cell_type": "code",
   "execution_count": 15,
   "metadata": {},
   "outputs": [
    {
     "name": "stdout",
     "output_type": "stream",
     "text": [
      "2020-12-30 01:31:06.998863\n"
     ]
    },
    {
     "data": {
      "text/html": [
       "<div>\n",
       "<style scoped>\n",
       "    .dataframe tbody tr th:only-of-type {\n",
       "        vertical-align: middle;\n",
       "    }\n",
       "\n",
       "    .dataframe tbody tr th {\n",
       "        vertical-align: top;\n",
       "    }\n",
       "\n",
       "    .dataframe thead th {\n",
       "        text-align: right;\n",
       "    }\n",
       "</style>\n",
       "<table border=\"1\" class=\"dataframe\">\n",
       "  <thead>\n",
       "    <tr style=\"text-align: right;\">\n",
       "      <th></th>\n",
       "      <th>Medical_speciality</th>\n",
       "      <th>Age_</th>\n",
       "      <th>race_</th>\n",
       "      <th>Admission</th>\n",
       "      <th>Discharge</th>\n",
       "      <th>Reaction</th>\n",
       "      <th>Pri_diag</th>\n",
       "      <th>Readmit</th>\n",
       "      <th>time_in_hospital</th>\n",
       "    </tr>\n",
       "  </thead>\n",
       "  <tbody>\n",
       "    <tr>\n",
       "      <th>0</th>\n",
       "      <td>Cardiology</td>\n",
       "      <td>[30, 60)</td>\n",
       "      <td>Caucasian</td>\n",
       "      <td>Other</td>\n",
       "      <td>Home</td>\n",
       "      <td>None</td>\n",
       "      <td>Circulatory</td>\n",
       "      <td>1</td>\n",
       "      <td>8</td>\n",
       "    </tr>\n",
       "    <tr>\n",
       "      <th>1</th>\n",
       "      <td>Surgery</td>\n",
       "      <td>[30, 60)</td>\n",
       "      <td>Caucasian</td>\n",
       "      <td>Other</td>\n",
       "      <td>Home</td>\n",
       "      <td>None</td>\n",
       "      <td>Musculoskeletal</td>\n",
       "      <td>0</td>\n",
       "      <td>2</td>\n",
       "    </tr>\n",
       "    <tr>\n",
       "      <th>2</th>\n",
       "      <td>InternalMedicine</td>\n",
       "      <td>[60, 100)</td>\n",
       "      <td>Caucasian</td>\n",
       "      <td>Emergency</td>\n",
       "      <td>Other</td>\n",
       "      <td>Norm</td>\n",
       "      <td>Injury</td>\n",
       "      <td>0</td>\n",
       "      <td>4</td>\n",
       "    </tr>\n",
       "    <tr>\n",
       "      <th>3</th>\n",
       "      <td>InternalMedicine</td>\n",
       "      <td>[60, 100)</td>\n",
       "      <td>Caucasian</td>\n",
       "      <td>Emergency</td>\n",
       "      <td>Home</td>\n",
       "      <td>High&amp;Ch</td>\n",
       "      <td>Others</td>\n",
       "      <td>0</td>\n",
       "      <td>3</td>\n",
       "    </tr>\n",
       "    <tr>\n",
       "      <th>4</th>\n",
       "      <td>InternalMedicine</td>\n",
       "      <td>[30, 60)</td>\n",
       "      <td>AfricanAmerican</td>\n",
       "      <td>Emergency</td>\n",
       "      <td>Home</td>\n",
       "      <td>None</td>\n",
       "      <td>Genitourinary</td>\n",
       "      <td>0</td>\n",
       "      <td>5</td>\n",
       "    </tr>\n",
       "  </tbody>\n",
       "</table>\n",
       "</div>"
      ],
      "text/plain": [
       "  Medical_speciality       Age_            race_  Admission Discharge  \\\n",
       "0         Cardiology   [30, 60)        Caucasian      Other      Home   \n",
       "1            Surgery   [30, 60)        Caucasian      Other      Home   \n",
       "2   InternalMedicine  [60, 100)        Caucasian  Emergency     Other   \n",
       "3   InternalMedicine  [60, 100)        Caucasian  Emergency      Home   \n",
       "4   InternalMedicine   [30, 60)  AfricanAmerican  Emergency      Home   \n",
       "\n",
       "  Reaction         Pri_diag  Readmit  time_in_hospital  \n",
       "0     None      Circulatory        1                 8  \n",
       "1     None  Musculoskeletal        0                 2  \n",
       "2     Norm           Injury        0                 4  \n",
       "3  High&Ch           Others        0                 3  \n",
       "4     None    Genitourinary        0                 5  "
      ]
     },
     "execution_count": 15,
     "metadata": {},
     "output_type": "execute_result"
    }
   ],
   "source": [
    "# Lectura de los datos limpios:\n",
    "print(datetime.now())\n",
    "\n",
    "data_cleaned=pd.read_csv('G:\\\\Shared drives\\\\Books_and_Code_for_Colab_(R and Python)\\\\ifood_technical_test\\\\ifood_diabetes_project\\\\Data\\\\diabetic_data_cleaned.csv',na_values=\"?\")\n",
    "data_cleaned.shape\n",
    "data_cleaned.head()"
   ]
  },
  {
   "cell_type": "code",
   "execution_count": 16,
   "metadata": {},
   "outputs": [
    {
     "name": "stdout",
     "output_type": "stream",
     "text": [
      "<class 'pandas.core.frame.DataFrame'>\n",
      "RangeIndex: 69990 entries, 0 to 69989\n",
      "Data columns (total 9 columns):\n",
      " #   Column              Non-Null Count  Dtype \n",
      "---  ------              --------------  ----- \n",
      " 0   Medical_speciality  69990 non-null  object\n",
      " 1   Age_                69990 non-null  object\n",
      " 2   race_               69990 non-null  object\n",
      " 3   Admission           69990 non-null  object\n",
      " 4   Discharge           69990 non-null  object\n",
      " 5   Reaction            69990 non-null  object\n",
      " 6   Pri_diag            69990 non-null  object\n",
      " 7   Readmit             69990 non-null  int64 \n",
      " 8   time_in_hospital    69990 non-null  int64 \n",
      "dtypes: int64(2), object(7)\n",
      "memory usage: 4.8+ MB\n"
     ]
    }
   ],
   "source": [
    "data_cleaned.info()"
   ]
  },
  {
   "cell_type": "markdown",
   "metadata": {},
   "source": [
    "A continuación se entandariza la variable numérica `time_in_hospital` y se recodifican las demás variables caregóricas."
   ]
  },
  {
   "cell_type": "code",
   "execution_count": 28,
   "metadata": {},
   "outputs": [],
   "source": [
    "from sklearn.preprocessing import StandardScaler\n",
    "\n",
    "sc = StandardScaler()\n",
    "sc.fit(data_cleaned[\"time_in_hospital\"].values.reshape(-1, 1))\n",
    "time_in_hospital_std = sc.transform(data_cleaned[\"time_in_hospital\"].values.reshape(-1, 1))"
   ]
  },
  {
   "cell_type": "code",
   "execution_count": 63,
   "metadata": {},
   "outputs": [
    {
     "data": {
      "text/plain": [
       "Index(['Medical_speciality', 'Age_', 'race_', 'Admission', 'Discharge',\n",
       "       'Reaction', 'Pri_diag', 'Readmit', 'time_in_hospital'],\n",
       "      dtype='object')"
      ]
     },
     "execution_count": 63,
     "metadata": {},
     "output_type": "execute_result"
    }
   ],
   "source": [
    "data_cleaned.columns\n"
   ]
  },
  {
   "cell_type": "code",
   "execution_count": 74,
   "metadata": {},
   "outputs": [],
   "source": [
    "X_imb = pd.concat([pd.DataFrame(time_in_hospital_std, columns=[\"time_in_hospital_std\"]),     \n",
    "                     pd.get_dummies(data_cleaned['Medical_speciality'], prefix='Medical_speciality', drop_first=True),\\\n",
    "                     pd.get_dummies(data_cleaned['Age_'], prefix='Age', drop_first=True),\\\n",
    "                     pd.get_dummies(data_cleaned['race_'], prefix='race', drop_first=True),\\\n",
    "                     pd.get_dummies(data_cleaned['Admission'], prefix='Admission', drop_first=True),\\\n",
    "                     pd.get_dummies(data_cleaned['Discharge'], prefix='Discharge', drop_first=True),\\\n",
    "                     pd.get_dummies(data_cleaned['Reaction'], prefix='Reaction', drop_first=True),\\\n",
    "                     pd.get_dummies(data_cleaned['Pri_diag'], prefix='Pri_diag', drop_first=True),],axis=1)"
   ]
  },
  {
   "cell_type": "code",
   "execution_count": 75,
   "metadata": {},
   "outputs": [],
   "source": [
    "y_imb=data_cleaned['Readmit']"
   ]
  },
  {
   "cell_type": "markdown",
   "metadata": {},
   "source": [
    "Como se muestra a continuación, la **clase positiva** está altamente desbalanceada ($\\approx\\ 9\\%$), por lo cual el desempeño de cualquier clasificador será enngañoso. Para corregir este problema se opta por aumentar el número de casos con un muestreo aleatorio con repetición."
   ]
  },
  {
   "cell_type": "code",
   "execution_count": 79,
   "metadata": {},
   "outputs": [
    {
     "data": {
      "text/plain": [
       "0    63705\n",
       "1     6285\n",
       "Name: Readmit, dtype: int64"
      ]
     },
     "execution_count": 79,
     "metadata": {},
     "output_type": "execute_result"
    }
   ],
   "source": [
    "y_imb.value_counts()#/y_imb.shape[0]\n"
   ]
  },
  {
   "cell_type": "code",
   "execution_count": 80,
   "metadata": {},
   "outputs": [
    {
     "name": "stdout",
     "output_type": "stream",
     "text": [
      "Number of class 1 samples before: 6285\n",
      "Number of class 1 samples after: 63705\n"
     ]
    }
   ],
   "source": [
    "from sklearn.utils import resample\n",
    "\n",
    "print('Number of class 1 samples before:', X_imb[y_imb == 1].shape[0])\n",
    "\n",
    "X_upsampled, y_upsampled = resample(X_imb[y_imb == 1],\n",
    "                                    y_imb[y_imb == 1],\n",
    "                                    replace=True,\n",
    "                                    n_samples=X_imb[y_imb == 0].shape[0],\n",
    "                                    random_state=123)\n",
    "\n",
    "print('Number of class 1 samples after:', X_upsampled.shape[0])"
   ]
  },
  {
   "cell_type": "markdown",
   "metadata": {},
   "source": [
    "Se puede observar como se equilibró el número de registros para cada una de las dos clases"
   ]
  },
  {
   "cell_type": "code",
   "execution_count": 85,
   "metadata": {},
   "outputs": [
    {
     "name": "stdout",
     "output_type": "stream",
     "text": [
      "(127410, 25)\n",
      "(127410,)\n"
     ]
    }
   ],
   "source": [
    "X_bal = np.vstack((X_imb[y_imb == 0], X_upsampled))\n",
    "y_bal = np.hstack((y_imb[y_imb == 0], y_upsampled))\n",
    "print(X_bal.shape)\n",
    "print(y_bal.shape)"
   ]
  },
  {
   "cell_type": "markdown",
   "metadata": {},
   "source": [
    "## Ajuste de modelos\n",
    "\n",
    "Se pretende construir y comparar los siguientes modelos de clasificación binaria:\n",
    "\n",
    "* Regresión Logística \n",
    "* Arbol de decisión\n",
    "\n",
    "Para poder comparar el desempeño de los modelos se utiliza la estrategia de **validación cruzada anidada**"
   ]
  },
  {
   "cell_type": "code",
   "execution_count": 87,
   "metadata": {},
   "outputs": [],
   "source": [
    "## Separación de los conjunto de datos para entrenamiento y prueba:\n",
    "from sklearn.model_selection import train_test_split\n",
    "\n",
    "X_train, X_test, y_train, y_test = \\\n",
    "    train_test_split(X_bal, y_bal, \n",
    "                     test_size=0.20,\n",
    "                     stratify=y_bal,\n",
    "                     random_state=1)"
   ]
  },
  {
   "cell_type": "markdown",
   "metadata": {},
   "source": [
    "### Modelo de regresión logística"
   ]
  },
  {
   "cell_type": "markdown",
   "metadata": {},
   "source": [
    "Se inicia con una prueba donde aun no se usa la validación cruzada."
   ]
  },
  {
   "cell_type": "code",
   "execution_count": 98,
   "metadata": {},
   "outputs": [
    {
     "name": "stdout",
     "output_type": "stream",
     "text": [
      "Train Accuracy: 0.579\n",
      "Test Accuracy: 0.581\n"
     ]
    }
   ],
   "source": [
    "from sklearn.preprocessing import StandardScaler\n",
    "from sklearn.decomposition import PCA\n",
    "from sklearn.linear_model import LogisticRegression\n",
    "from sklearn.pipeline import make_pipeline\n",
    "\n",
    "pipe_lr = make_pipeline(LogisticRegression(random_state=12345, max_iter=500))\n",
    "\n",
    "pipe_lr.fit(X_train, y_train)\n",
    "y_pred = pipe_lr.predict(X_test)\n",
    "print('Train Accuracy: %.3f' % pipe_lr.score(X_train, y_train))\n",
    "print('Test Accuracy: %.3f' % pipe_lr.score(X_test, y_test))"
   ]
  },
  {
   "cell_type": "markdown",
   "metadata": {},
   "source": [
    "Se observa un desempeño muy pobre. Para evitar la ocurrencia de un subajuste, se trabaja con una validación cruzada que internamente trata de optimizar el parámetro de regularización inversa $C$."
   ]
  },
  {
   "cell_type": "code",
   "execution_count": 129,
   "metadata": {},
   "outputs": [
    {
     "name": "stdout",
     "output_type": "stream",
     "text": [
      "CV roc_auc: 0.606 +/- 0.007\n",
      "CV accuracy: 0.579 +/- 0.005\n",
      "Wall time: 6min 26s\n"
     ]
    }
   ],
   "source": [
    "%%time\n",
    "from sklearn.model_selection import GridSearchCV\n",
    "from sklearn.model_selection import cross_val_score\n",
    "gs = GridSearchCV(estimator=pipe_lr,\n",
    "                  param_grid=[{'logisticregression__C': [0.001, 0.01, 0.1, 1.0, 10.0, 100.0]}],\n",
    "                  scoring='f1',\n",
    "                  cv=5)\n",
    "\n",
    "scores = cross_val_score(gs, X_train, y_train, \n",
    "                         scoring='roc_auc', cv=10)\n",
    "print('CV roc_auc: %.3f +/- %.3f' % (np.mean(scores), \n",
    "                                      np.std(scores)))\n",
    "\n",
    "scores = cross_val_score(gs, X_train, y_train, \n",
    "                         scoring='accuracy', cv=10)\n",
    "print('CV accuracy: %.3f +/- %.3f' % (np.mean(scores),  np.std(scores)))"
   ]
  },
  {
   "cell_type": "markdown",
   "metadata": {},
   "source": [
    "Los resultados muestran que el desempeño no mejoró y que tal vez es necesario considerar interacciones las variables (lo cual no se hará por el momento)"
   ]
  },
  {
   "cell_type": "markdown",
   "metadata": {},
   "source": [
    "### Arboles de decisión."
   ]
  },
  {
   "cell_type": "code",
   "execution_count": 128,
   "metadata": {},
   "outputs": [
    {
     "name": "stdout",
     "output_type": "stream",
     "text": [
      "CV roc_auc: 0.810 +/- 0.003\n",
      "CV accuracy: 0.724 +/- 0.004\n",
      "Wall time: 3min 43s\n"
     ]
    }
   ],
   "source": [
    "%%time\n",
    "from sklearn.tree import DecisionTreeClassifier\n",
    "\n",
    "gs = GridSearchCV(estimator=DecisionTreeClassifier(random_state=0),\n",
    "                  param_grid=[{'max_depth': [1, 2, 3, 4, 5, 6, 7,10,15,20, None]}],\n",
    "                  scoring='f1',\n",
    "                  cv=5)\n",
    "\n",
    "scores = cross_val_score(gs, X_train, y_train, \n",
    "                         scoring='roc_auc', cv=10)\n",
    "print('CV roc_auc: %.3f +/- %.3f' % (np.mean(scores),  np.std(scores)))\n",
    "\n",
    "scores = cross_val_score(gs, X_train, y_train, \n",
    "                         scoring='accuracy', cv=10)\n",
    "print('CV accuracy: %.3f +/- %.3f' % (np.mean(scores),  np.std(scores)))\n",
    "\n",
    "# print(gs.best_params_)"
   ]
  },
  {
   "cell_type": "markdown",
   "metadata": {},
   "source": [
    "El modelo de árbol de decisión mejoró el desempeño en la clasificación de manera apreciable "
   ]
  },
  {
   "cell_type": "code",
   "execution_count": 132,
   "metadata": {},
   "outputs": [
    {
     "name": "stdout",
     "output_type": "stream",
     "text": [
      "0.7371216051723815\n",
      "{'max_depth': None}\n"
     ]
    }
   ],
   "source": [
    "gs = GridSearchCV(estimator=DecisionTreeClassifier(random_state=0),\n",
    "                  param_grid=[{'max_depth': [1, 2, 3, 4, 5, 6, 7,10,15,20, None]}],\n",
    "                  scoring='f1',\n",
    "                  cv=5)\n",
    "gs = gs.fit(X_train, y_train)\n",
    "print(gs.best_score_)\n",
    "print(gs.best_params_)"
   ]
  },
  {
   "cell_type": "markdown",
   "metadata": {},
   "source": [
    "Ahora se ajustará el árbol con `'max_depth'= None`, usando todos los datos del conjunto de entrenamiento."
   ]
  },
  {
   "cell_type": "code",
   "execution_count": 141,
   "metadata": {},
   "outputs": [],
   "source": [
    "# !pip install pydotplus\n",
    "from io import StringIO\n",
    "from sklearn.tree import export_graphviz\n",
    "import pydotplus\n",
    "from IPython.display import Image, SVG\n",
    "\n",
    "clf = DecisionTreeClassifier(max_depth = None)\n",
    "\n",
    "# Train Decision Tree Classifer\n",
    "\n",
    "clf = clf.fit(X_train, y_train)"
   ]
  },
  {
   "cell_type": "code",
   "execution_count": 147,
   "metadata": {},
   "outputs": [],
   "source": [
    "feat_labels = X_imb.columns"
   ]
  },
  {
   "cell_type": "code",
   "execution_count": 148,
   "metadata": {},
   "outputs": [
    {
     "name": "stdout",
     "output_type": "stream",
     "text": [
      " 1) time_in_hospital_std           0.227079\n",
      " 2) race_Caucasian                 0.094813\n",
      " 3) Admission_Other                0.075396\n",
      " 4) Discharge_Other                0.059969\n",
      " 5) Reaction_None                  0.046318\n",
      " 6) Medical_speciality_Missing     0.038662\n",
      " 7) Pri_diag_Diabetes              0.036051\n",
      " 8) Pri_diag_Others                0.035630\n",
      " 9) Pri_diag_Digestive             0.033542\n",
      "10) Medical_speciality_Other       0.033453\n",
      "11) Reaction_Norm                  0.033241\n",
      "12) Medical_speciality_InternalMedicine 0.033043\n",
      "13) Medical_speciality_GeneralPractice 0.029450\n",
      "14) Pri_diag_Respiratory           0.028861\n",
      "15) race_Other                     0.027850\n",
      "16) Pri_diag_Injury                0.022951\n",
      "17) race_Missing                   0.021002\n",
      "18) Pri_diag_Neoplasms             0.020337\n",
      "19) Pri_diag_Genitourinary         0.019163\n",
      "20) Reaction_High&Not              0.018878\n",
      "21) Age_[60, 100)                  0.017092\n",
      "22) Medical_speciality_Surgery     0.016564\n",
      "23) Age_[30, 60)                   0.015371\n",
      "24) Pri_diag_Musculoskeletal       0.015058\n",
      "25) Admission_referral             0.000225\n"
     ]
    }
   ],
   "source": [
    "importances=clf.feature_importances_\n",
    "indices = np.argsort(importances)[::-1]\n",
    "\n",
    "for f in range(X_train.shape[1]):\n",
    "    print(\"%2d) %-*s %f\" % (f + 1, 30,\n",
    "    feat_labels[indices[f]],\n",
    "    importances[indices[f]]))"
   ]
  },
  {
   "cell_type": "markdown",
   "metadata": {},
   "source": [
    "### Conclusiones:\n",
    "\n",
    "* De la salida anteior se deduce que las variables con mayor poder discriminatorio a la hora de predecir si un paciente será reingresado son **time_in_hospital**, **race_Caucasian**, **dmission_Other** y **Discharge_Other**.\n",
    "\n",
    "\n",
    "* Aunque el poder predictivo del árbol de decisión final es `aceptable`, este podría ser mejorado con un modelo de **redes neuronales recurrentes**, como lo proponen **Chopra et al.** (2017), pero con el inconveniente de ser menos interpretable en términos de la importancia de las variables.\n",
    "\n",
    "\n",
    "* Chopra et al. (2017), realiza una comparación de varios métodos de clasificación; entre ellos Regresión logística, SVM, Árboles de decisión, Redes neuronales simples y Redes nuronales recurrentes, siendo este último método quien obtuvo el mejor comportamiento con un $AUC=0.8$ y un $ACC=81,12\\%$ ........"
   ]
  },
  {
   "cell_type": "markdown",
   "metadata": {},
   "source": [
    "### Referencias\n",
    "\n",
    "* Chopra, C., Sinha, S., Jaroli, S., Shukla, A. and Maheshwari, S. (2017). **Recurrent Neural Networks with Non-Sequential Data to Predict Hospital Readmission of Diabetic Patients**. ICCBB 2017: Proceedings of the 2017 International Conference on Computational Biology and BioinformaticsOctober 2017 Pages 18–23.\n",
    "\n",
    "\n",
    "* Strack, B., DeShazo, J. P., Gennings, C., Olmo, J. L., Ventura, S., Cios, K. J. and Clore, J. N. (2014). **Impact of hba1c measurement on hospital readmission rates: analysis of 70,000 clinical data base patient records**. BioMed research international. Volume 2014, Article ID 781670.\n",
    "\n",
    "\n"
   ]
  }
 ],
 "metadata": {
  "kernelspec": {
   "display_name": "Python 3.7.7 64-bit ('TMO_3_7': conda)",
   "language": "python",
   "name": "python37764bittmo37condaf4b11ac3c58740d5946239941652657f"
  },
  "language_info": {
   "codemirror_mode": {
    "name": "ipython",
    "version": 3
   },
   "file_extension": ".py",
   "mimetype": "text/x-python",
   "name": "python",
   "nbconvert_exporter": "python",
   "pygments_lexer": "ipython3",
   "version": "3.7.7"
  }
 },
 "nbformat": 4,
 "nbformat_minor": 4
}
